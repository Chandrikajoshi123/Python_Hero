{
 "cells": [
  {
   "cell_type": "markdown",
   "metadata": {},
   "source": [
    "# **Inheritance**"
   ]
  },
  {
   "cell_type": "markdown",
   "metadata": {},
   "source": [
    "**It is the process of passing the properties of one class to another class.**"
   ]
  },
  {
   "cell_type": "markdown",
   "metadata": {},
   "source": [
    "## Single Inheritance"
   ]
  },
  {
   "cell_type": "markdown",
   "metadata": {},
   "source": [
    "**One Base class with one derived class, this mechanism is called single inheritance**"
   ]
  },
  {
   "cell_type": "code",
   "execution_count": 3,
   "metadata": {},
   "outputs": [
    {
     "name": "stdout",
     "output_type": "stream",
     "text": [
      "The person will drive the Petrol car\n",
      "None\n"
     ]
    }
   ],
   "source": [
    "#Inheritance\n",
    "\n",
    "#Parent Class\n",
    "class car:\n",
    "    def __init__(self,windows,doors,enginetype):\n",
    "        self.windows=windows\n",
    "        self.doors=doors\n",
    "        self.enginetype=enginetype\n",
    "    def drive(self):\n",
    "        print(f\"The person will drive the {self.enginetype} car\")\n",
    "car1=car(4,5,\"Petrol\")\n",
    "print(car1.drive())\n",
    "\n"
   ]
  },
  {
   "cell_type": "code",
   "execution_count": 5,
   "metadata": {},
   "outputs": [
    {
     "name": "stdout",
     "output_type": "stream",
     "text": [
      "Tesla support self driving: True\n",
      "The person will drive the Electric car\n"
     ]
    }
   ],
   "source": [
    "#Child class \n",
    "class Tesla(car):\n",
    "    def __init__(self,windows,doors,enginetype,is_selfdriving):\n",
    "        super().__init__(windows,doors,enginetype)\n",
    "        self.is_selfdriving=is_selfdriving\n",
    "    def selfdriving(self):\n",
    "        print(f\"Tesla support self driving: {self.is_selfdriving}\")\n",
    "tesla=Tesla(4,5,\"Electric\",True)\n",
    "tesla.selfdriving()\n",
    "tesla.drive()\n"
   ]
  },
  {
   "cell_type": "code",
   "execution_count": 26,
   "metadata": {},
   "outputs": [
    {
     "name": "stdout",
     "output_type": "stream",
     "text": [
      "The ID of the student is 45 and Grade is A\n",
      "None\n",
      "The name of the student is:Chandrika and the age is:20,their height is:4.11 and weight is:31\n"
     ]
    }
   ],
   "source": [
    "#Student data\n",
    "class Student():\n",
    "    def __init__(pf,name,age):\n",
    "        pf.name=name\n",
    "        pf.age=age\n",
    "    def info(pf,ID,Grade):\n",
    "        pf.ID=ID\n",
    "        pf.Grade=Grade\n",
    "        print(f\"The ID of the student is {pf.ID} and Grade is {pf.Grade}\")\n",
    "student=Student('Chandrika',20)\n",
    "print(student.info(45,'A'))\n",
    "\n",
    "#Base class\n",
    "class Python(Student):\n",
    "    def __init__(kf,name,age,height,weight):\n",
    "        Student.__init__(kf,name,age)\n",
    "        kf.height=height\n",
    "        kf.weight=weight\n",
    "    def Stu(kf):\n",
    "        print(f\"The name of the student is:{kf.name} and the age is:{kf.age},their height is:{kf.height} and weight is:{kf.weight}\")\n",
    "#Object\n",
    "student1=Python('Chandrika',20,4.11,31)\n",
    "student1.Stu()\n"
   ]
  },
  {
   "cell_type": "markdown",
   "metadata": {},
   "source": [
    "## Multiple Inheritance"
   ]
  },
  {
   "cell_type": "markdown",
   "metadata": {},
   "source": [
    "**More then one Base class with single child class**"
   ]
  },
  {
   "cell_type": "code",
   "execution_count": 10,
   "metadata": {},
   "outputs": [
    {
     "name": "stdout",
     "output_type": "stream",
     "text": [
      "Lucy say meow\n",
      "The owner of the Lucy is Wang\n",
      "The age of the Lucy is 3\n"
     ]
    }
   ],
   "source": [
    "# Multiple Inheritance\n",
    "\n",
    "#Base class1\n",
    "class Animal():\n",
    "    def __init__(kk,name,age):\n",
    "        kk.name=name \n",
    "        kk.age=age\n",
    "    def speak(kk):\n",
    "        print(\"Kuuuuuu Woooouuuu\")\n",
    "\n",
    "#Base class2\n",
    "class Pet():\n",
    "    def __init__(kk,owner):\n",
    "        kk.owner=owner\n",
    "\n",
    "#Derived class/Child class\n",
    "class Cat(Animal,Pet):\n",
    "    def __init__(kk,name,age,owner):\n",
    "        Animal.__init__(kk,name,age)\n",
    "        Pet.__init__(kk,owner)\n",
    "    def speak(kk):\n",
    "        print(f\"{kk.name} say meow\")\n",
    "\n",
    "#Object\n",
    "cat=Cat(\"Lucy\",3,\"Wang\")\n",
    "cat.speak()\n",
    "print(f\"The owner of the {cat.name} is {cat.owner}\")\n",
    "print(f\"The age of the {cat.name} is {cat.age}\")\n"
   ]
  },
  {
   "cell_type": "code",
   "execution_count": null,
   "metadata": {},
   "outputs": [],
   "source": []
  }
 ],
 "metadata": {
  "kernelspec": {
   "display_name": "venvnnv",
   "language": "python",
   "name": "python3"
  },
  "language_info": {
   "codemirror_mode": {
    "name": "ipython",
    "version": 3
   },
   "file_extension": ".py",
   "mimetype": "text/x-python",
   "name": "python",
   "nbconvert_exporter": "python",
   "pygments_lexer": "ipython3",
   "version": "3.13.0"
  }
 },
 "nbformat": 4,
 "nbformat_minor": 2
}
