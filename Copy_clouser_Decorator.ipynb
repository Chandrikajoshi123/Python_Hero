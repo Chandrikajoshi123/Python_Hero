{
 "cells": [
  {
   "cell_type": "markdown",
   "metadata": {},
   "source": [
    "# **Decorators**"
   ]
  },
  {
   "cell_type": "markdown",
   "metadata": {},
   "source": [
    "Decorators are a powerful and flexible feature that allows you to modify the behaviour of a function or class method. They are commonly used to add functionality to functions or method without modifying their actual code."
   ]
  },
  {
   "cell_type": "markdown",
   "metadata": {},
   "source": [
    "### **Function copy**"
   ]
  },
  {
   "cell_type": "code",
   "execution_count": 2,
   "metadata": {},
   "outputs": [
    {
     "data": {
      "text/plain": [
       "'Welcome to python repo'"
      ]
     },
     "execution_count": 2,
     "metadata": {},
     "output_type": "execute_result"
    }
   ],
   "source": [
    "#Function copy\n",
    "def howdy():\n",
    "    return \"Welcome to python repo\"\n",
    "howdy()"
   ]
  },
  {
   "cell_type": "code",
   "execution_count": 3,
   "metadata": {},
   "outputs": [
    {
     "data": {
      "text/plain": [
       "'Welcome to python repo'"
      ]
     },
     "execution_count": 3,
     "metadata": {},
     "output_type": "execute_result"
    }
   ],
   "source": [
    "hh=howdy()\n",
    "hh"
   ]
  },
  {
   "cell_type": "code",
   "execution_count": 4,
   "metadata": {},
   "outputs": [],
   "source": [
    "del howdy"
   ]
  },
  {
   "cell_type": "code",
   "execution_count": 5,
   "metadata": {},
   "outputs": [
    {
     "data": {
      "text/plain": [
       "'Welcome to python repo'"
      ]
     },
     "execution_count": 5,
     "metadata": {},
     "output_type": "execute_result"
    }
   ],
   "source": [
    "hh"
   ]
  },
  {
   "cell_type": "code",
   "execution_count": 6,
   "metadata": {},
   "outputs": [
    {
     "ename": "NameError",
     "evalue": "name 'howdy' is not defined",
     "output_type": "error",
     "traceback": [
      "\u001b[0;31m---------------------------------------------------------------------------\u001b[0m",
      "\u001b[0;31mNameError\u001b[0m                                 Traceback (most recent call last)",
      "Cell \u001b[0;32mIn[6], line 1\u001b[0m\n\u001b[0;32m----> 1\u001b[0m \u001b[43mhowdy\u001b[49m()\n",
      "\u001b[0;31mNameError\u001b[0m: name 'howdy' is not defined"
     ]
    }
   ],
   "source": [
    "\n",
    "howdy()"
   ]
  },
  {
   "cell_type": "markdown",
   "metadata": {},
   "source": [
    "### **Closures**"
   ]
  },
  {
   "cell_type": "code",
   "execution_count": 10,
   "metadata": {},
   "outputs": [],
   "source": [
    "#function inside function\n",
    "#closure is method within a method\n",
    "def main_welcome():\n",
    "    msg=\"Welcome\"\n",
    "    print(msg)\n",
    "    def sub_welcome():\n",
    "        print(\"Welcome Welcome :)\")\n",
    "        print(\"----------___0_0___--------\")\n",
    "    return sub_welcome()\n"
   ]
  },
  {
   "cell_type": "code",
   "execution_count": 11,
   "metadata": {},
   "outputs": [
    {
     "name": "stdout",
     "output_type": "stream",
     "text": [
      "Welcome\n",
      "Welcome Welcome :)\n",
      "----------___0_0___--------\n"
     ]
    }
   ],
   "source": [
    "main_welcome()"
   ]
  },
  {
   "cell_type": "code",
   "execution_count": 12,
   "metadata": {},
   "outputs": [
    {
     "name": "stdout",
     "output_type": "stream",
     "text": [
      "Welcome\n",
      "Hoi-------- |*_* | 0_0 | []_[] |------\n",
      "Welcome Welcome :)\n",
      "----------___0_0___--------\n"
     ]
    }
   ],
   "source": [
    "def main_welcome(func):\n",
    "    msg=\"Welcome\"\n",
    "    print(msg)\n",
    "    def sub_welcome():\n",
    "        func(\"Hoi-------- |*_* | 0_0 | []_[] |------\")\n",
    "        print(\"Welcome Welcome :)\")\n",
    "        print(\"----------___0_0___--------\")\n",
    "    return sub_welcome()\n",
    "main_welcome(print)"
   ]
  }
 ],
 "metadata": {
  "kernelspec": {
   "display_name": "ML_Env_Udemy",
   "language": "python",
   "name": "python3"
  },
  "language_info": {
   "codemirror_mode": {
    "name": "ipython",
    "version": 3
   },
   "file_extension": ".py",
   "mimetype": "text/x-python",
   "name": "python",
   "nbconvert_exporter": "python",
   "pygments_lexer": "ipython3",
   "version": "3.12.0"
  }
 },
 "nbformat": 4,
 "nbformat_minor": 2
}
