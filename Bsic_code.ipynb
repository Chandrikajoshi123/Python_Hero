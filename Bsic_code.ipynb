{
 "cells": [
  {
   "cell_type": "markdown",
   "metadata": {},
   "source": [
    "# **Print Statement**"
   ]
  },
  {
   "cell_type": "code",
   "execution_count": 1,
   "metadata": {},
   "outputs": [
    {
     "name": "stdout",
     "output_type": "stream",
     "text": [
      "Hello Howdy! :)\n"
     ]
    }
   ],
   "source": [
    "#Printing a simple message\n",
    "print(\"Hello Howdy! :)\")"
   ]
  },
  {
   "cell_type": "code",
   "execution_count": 4,
   "metadata": {},
   "outputs": [
    {
     "name": "stdout",
     "output_type": "stream",
     "text": [
      "Hello, I am Chandrika Joshi my age is 20 and my favorite hobby is Painting \n"
     ]
    }
   ],
   "source": [
    "# Write a program to print your name, age, and favorite hobby.\n",
    "First_name='Chandrika '\n",
    "Last_name='Joshi'\n",
    "age=20\n",
    "Favorite_Hobby='Painting'\n",
    "print(f\"Hello, I am {First_name}{Last_name} my age is {age} and my favorite hobby is {Favorite_Hobby} \")"
   ]
  },
  {
   "cell_type": "markdown",
   "metadata": {},
   "source": [
    "# **Variables and Data Type** "
   ]
  },
  {
   "cell_type": "code",
   "execution_count": 3,
   "metadata": {},
   "outputs": [
    {
     "name": "stdout",
     "output_type": "stream",
     "text": [
      "My name is xyz, I am 35 years old, and my height is 5.9 feet.\n"
     ]
    }
   ],
   "source": [
    "name='xyz'\n",
    "age=35\n",
    "height=5.9\n",
    "is_student=False\n",
    "print(f\"My name is {name}, I am {age} years old, and my height is {height} feet.\")"
   ]
  },
  {
   "cell_type": "markdown",
   "metadata": {},
   "source": [
    "# **Basic Arithmetic**"
   ]
  },
  {
   "cell_type": "code",
   "execution_count": 5,
   "metadata": {},
   "outputs": [
    {
     "name": "stdout",
     "output_type": "stream",
     "text": [
      "Addition of 20 and 34.6 is :54.6 \n",
      "Subtraction of 20 and 34.6 is :-14.600000000000001 \n",
      "Multiplication of 20 and 34.6 is :692.0 \n",
      "Division of 20 and 34.6 is :0.5780346820809248 \n"
     ]
    }
   ],
   "source": [
    "num1=20\n",
    "num2=34.6\n",
    "print(f\"Addition of {num1} and {num2} is :{num1+num2} \")\n",
    "print(f\"Subtraction of {num1} and {num2} is :{num1-num2} \")\n",
    "print(f\"Multiplication of {num1} and {num2} is :{num1*num2} \")\n",
    "print(f\"Division of {num1} and {num2} is :{num1/num2} \")"
   ]
  },
  {
   "cell_type": "markdown",
   "metadata": {},
   "source": [
    "# **Input from the User**"
   ]
  },
  {
   "cell_type": "code",
   "execution_count": 8,
   "metadata": {},
   "outputs": [
    {
     "name": "stdout",
     "output_type": "stream",
     "text": [
      "Chandrika likes Black\n"
     ]
    }
   ],
   "source": [
    "name=input(\"What is your name:\")\n",
    "favorite_color=input(\"What is your favorite color:\")\n",
    "print(name+' '+'likes'+' '+favorite_color)"
   ]
  },
  {
   "cell_type": "code",
   "execution_count": null,
   "metadata": {},
   "outputs": [],
   "source": []
  }
 ],
 "metadata": {
  "kernelspec": {
   "display_name": "venvnnv",
   "language": "python",
   "name": "python3"
  },
  "language_info": {
   "codemirror_mode": {
    "name": "ipython",
    "version": 3
   },
   "file_extension": ".py",
   "mimetype": "text/x-python",
   "name": "python",
   "nbconvert_exporter": "python",
   "pygments_lexer": "ipython3",
   "version": "3.13.0"
  }
 },
 "nbformat": 4,
 "nbformat_minor": 2
}
