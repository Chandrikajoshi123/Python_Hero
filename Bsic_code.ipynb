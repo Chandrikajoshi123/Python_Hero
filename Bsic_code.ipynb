{
 "cells": [
  {
   "cell_type": "markdown",
   "metadata": {},
   "source": [
    "# **Print Statement**"
   ]
  },
  {
   "cell_type": "code",
   "execution_count": 1,
   "metadata": {},
   "outputs": [
    {
     "name": "stdout",
     "output_type": "stream",
     "text": [
      "Hello Howdy! :)\n"
     ]
    }
   ],
   "source": [
    "#Printing a simple message\n",
    "print(\"Hello Howdy! :)\")"
   ]
  },
  {
   "cell_type": "code",
   "execution_count": 4,
   "metadata": {},
   "outputs": [
    {
     "name": "stdout",
     "output_type": "stream",
     "text": [
      "Hello, I am Chandrika Joshi my age is 20 and my favorite hobby is Painting \n"
     ]
    }
   ],
   "source": [
    "# Write a program to print your name, age, and favorite hobby.\n",
    "First_name='Chandrika '\n",
    "Last_name='Joshi'\n",
    "age=20\n",
    "Favorite_Hobby='Painting'\n",
    "print(f\"Hello, I am {First_name}{Last_name} my age is {age} and my favorite hobby is {Favorite_Hobby} \")"
   ]
  },
  {
   "cell_type": "markdown",
   "metadata": {},
   "source": [
    "# **Variables and Data Type** "
   ]
  },
  {
   "cell_type": "code",
   "execution_count": 3,
   "metadata": {},
   "outputs": [
    {
     "name": "stdout",
     "output_type": "stream",
     "text": [
      "My name is xyz, I am 35 years old, and my height is 5.9 feet.\n"
     ]
    }
   ],
   "source": [
    "name='xyz'\n",
    "age=35\n",
    "height=5.9\n",
    "is_student=False\n",
    "print(f\"My name is {name}, I am {age} years old, and my height is {height} feet.\")"
   ]
  },
  {
   "cell_type": "markdown",
   "metadata": {},
   "source": [
    "# **Basic Arithmetic**"
   ]
  },
  {
   "cell_type": "code",
   "execution_count": 5,
   "metadata": {},
   "outputs": [
    {
     "name": "stdout",
     "output_type": "stream",
     "text": [
      "Addition of 20 and 34.6 is :54.6 \n",
      "Subtraction of 20 and 34.6 is :-14.600000000000001 \n",
      "Multiplication of 20 and 34.6 is :692.0 \n",
      "Division of 20 and 34.6 is :0.5780346820809248 \n"
     ]
    }
   ],
   "source": [
    "num1=20\n",
    "num2=34.6\n",
    "print(f\"Addition of {num1} and {num2} is :{num1+num2} \")\n",
    "print(f\"Subtraction of {num1} and {num2} is :{num1-num2} \")\n",
    "print(f\"Multiplication of {num1} and {num2} is :{num1*num2} \")\n",
    "print(f\"Division of {num1} and {num2} is :{num1/num2} \")"
   ]
  },
  {
   "cell_type": "markdown",
   "metadata": {},
   "source": [
    "# **Input from the User**"
   ]
  },
  {
   "cell_type": "code",
   "execution_count": 8,
   "metadata": {},
   "outputs": [
    {
     "name": "stdout",
     "output_type": "stream",
     "text": [
      "Chandrika likes Black\n"
     ]
    }
   ],
   "source": [
    "name=input(\"What is your name:\")\n",
    "favorite_color=input(\"What is your favorite color:\")\n",
    "print(name+' '+'likes'+' '+favorite_color)"
   ]
  },
  {
   "cell_type": "markdown",
   "metadata": {},
   "source": [
    "# **String**"
   ]
  },
  {
   "cell_type": "markdown",
   "metadata": {},
   "source": [
    "**We can write string in single quote and double quote**"
   ]
  },
  {
   "cell_type": "code",
   "execution_count": 1,
   "metadata": {},
   "outputs": [
    {
     "data": {
      "text/plain": [
       "\"One of python's strength is its diverse and supportive community.\""
      ]
     },
     "execution_count": 1,
     "metadata": {},
     "output_type": "execute_result"
    }
   ],
   "source": [
    "'I told my friend, \"python is my favorite language!\"'\n",
    "\"The language 'python' is named after Monty python, not the snake.\"\n",
    "\"One of python's strength is its diverse and supportive community.\""
   ]
  },
  {
   "cell_type": "markdown",
   "metadata": {},
   "source": [
    "### **Changing case in a String with Methods**"
   ]
  },
  {
   "cell_type": "code",
   "execution_count": 4,
   "metadata": {},
   "outputs": [
    {
     "name": "stdout",
     "output_type": "stream",
     "text": [
      "Chandrika Joshi\n",
      "CHANDRIKA JOSHI\n",
      "chandrika joshi\n"
     ]
    }
   ],
   "source": [
    "name=\"chandrika Joshi\"\n",
    "print(name.title())\n",
    "print(name.upper())\n",
    "print(name.lower())"
   ]
  },
  {
   "cell_type": "markdown",
   "metadata": {},
   "source": [
    "**The title() method changes each word to title case, where each word begin with capital letter. The lower() method is particularly useful for storing data.**"
   ]
  },
  {
   "cell_type": "markdown",
   "metadata": {},
   "source": [
    "### **Using Variable in String**"
   ]
  },
  {
   "cell_type": "code",
   "execution_count": 9,
   "metadata": {},
   "outputs": [
    {
     "name": "stdout",
     "output_type": "stream",
     "text": [
      "Chandrika Joshi\n",
      "Hello Chandrika Joshi!\n"
     ]
    }
   ],
   "source": [
    "first_name=\"Chandrika\"\n",
    "last_name=\"Joshi\"\n",
    "full_name=f\"{first_name} {last_name}\"\n",
    "print(full_name)\n",
    "print(f\"Hello {full_name.title()}!\")"
   ]
  },
  {
   "cell_type": "markdown",
   "metadata": {},
   "source": [
    "### **Adding Whitespace to String with Tabs or Newlines**"
   ]
  },
  {
   "cell_type": "code",
   "execution_count": 10,
   "metadata": {},
   "outputs": [
    {
     "name": "stdout",
     "output_type": "stream",
     "text": [
      "python\n",
      "\tpython\n"
     ]
    }
   ],
   "source": [
    "print(\"python\")\n",
    "print(\"\\tpython\")"
   ]
  },
  {
   "cell_type": "code",
   "execution_count": 11,
   "metadata": {},
   "outputs": [
    {
     "name": "stdout",
     "output_type": "stream",
     "text": [
      "Languages:\n",
      "Hindi\n",
      "English\n",
      "Spanish\n",
      "Russian\n",
      "Arabic\n"
     ]
    }
   ],
   "source": [
    "#Newline\n",
    "print(\"Languages:\\nHindi\\nEnglish\\nSpanish\\nRussian\\nArabic\")"
   ]
  },
  {
   "cell_type": "markdown",
   "metadata": {},
   "source": [
    "### **Stripping Whitespace**"
   ]
  },
  {
   "cell_type": "code",
   "execution_count": 15,
   "metadata": {},
   "outputs": [
    {
     "name": "stdout",
     "output_type": "stream",
     "text": [
      "python \n",
      "python\n"
     ]
    },
    {
     "data": {
      "text/plain": [
       "'python '"
      ]
     },
     "execution_count": 15,
     "metadata": {},
     "output_type": "execute_result"
    }
   ],
   "source": [
    "favorite_language='python '\n",
    "print(favorite_language)\n",
    "print(favorite_language.rstrip())\n",
    "favorite_language"
   ]
  },
  {
   "cell_type": "code",
   "execution_count": 3,
   "metadata": {},
   "outputs": [
    {
     "name": "stdout",
     "output_type": "stream",
     "text": [
      "Chandrika Joshi\n"
     ]
    }
   ],
   "source": [
    "first_name=\"Chandrika\"\n",
    "last_name=\"Joshi\"\n",
    "full_name=\"{} {}\".format(first_name,last_name)\n",
    "print(full_name)"
   ]
  },
  {
   "cell_type": "markdown",
   "metadata": {},
   "source": [
    "# *Numbers*"
   ]
  },
  {
   "cell_type": "code",
   "execution_count": 4,
   "metadata": {},
   "outputs": [
    {
     "name": "stdout",
     "output_type": "stream",
     "text": [
      "14000000000\n"
     ]
    }
   ],
   "source": [
    "#Underscore in Numbers\n",
    "universe_age=14_000_000_000\n",
    "print(universe_age)"
   ]
  },
  {
   "cell_type": "code",
   "execution_count": 5,
   "metadata": {},
   "outputs": [
    {
     "name": "stdout",
     "output_type": "stream",
     "text": [
      "1\n",
      "2\n",
      "0\n"
     ]
    }
   ],
   "source": [
    "#Multiple assignment\n",
    "x,y,z=1,2,0\n",
    "print(x)\n",
    "print(y)\n",
    "print(z)"
   ]
  },
  {
   "cell_type": "markdown",
   "metadata": {},
   "source": [
    "# **List**"
   ]
  },
  {
   "cell_type": "markdown",
   "metadata": {},
   "source": [
    "**A list is a collection of items in a particular order. You can make a list that\n",
    "includes the letters of the alphabet, the digits from 0–9, or the names of\n",
    "all the people in your family. You can put anything you want into a list, and\n",
    "bicycles.py 34 Chapter 3\n",
    "the items in your list don’t have to be related in any particular way. Because\n",
    "a list usually contains more than one element, it’s a good idea to make the\n",
    "name of your list plural, such as letters, digits, or names.**"
   ]
  },
  {
   "cell_type": "code",
   "execution_count": 6,
   "metadata": {},
   "outputs": [
    {
     "name": "stdout",
     "output_type": "stream",
     "text": [
      "['trek', 'cannondale', 'redline', 'specialized']\n",
      "<class 'list'>\n"
     ]
    }
   ],
   "source": [
    "bicycles=['trek','cannondale','redline','specialized']\n",
    "print(bicycles)\n",
    "print(type(bicycles))"
   ]
  },
  {
   "cell_type": "code",
   "execution_count": 7,
   "metadata": {},
   "outputs": [
    {
     "name": "stdout",
     "output_type": "stream",
     "text": [
      "trek\n"
     ]
    }
   ],
   "source": [
    "print(bicycles[0])"
   ]
  },
  {
   "cell_type": "code",
   "execution_count": 8,
   "metadata": {},
   "outputs": [
    {
     "name": "stdout",
     "output_type": "stream",
     "text": [
      "Trek\n"
     ]
    }
   ],
   "source": [
    "print(bicycles[0].title())"
   ]
  },
  {
   "cell_type": "code",
   "execution_count": 9,
   "metadata": {},
   "outputs": [
    {
     "name": "stdout",
     "output_type": "stream",
     "text": [
      "My first bicycle was a Trek.\n"
     ]
    }
   ],
   "source": [
    "message=f\"My first bicycle was a {bicycles[0].title()}.\"\n",
    "print(message)"
   ]
  },
  {
   "cell_type": "markdown",
   "metadata": {},
   "source": [
    "### **Changing, Adding, and Removing Elements**"
   ]
  },
  {
   "cell_type": "code",
   "execution_count": 10,
   "metadata": {},
   "outputs": [
    {
     "name": "stdout",
     "output_type": "stream",
     "text": [
      "['honda', 'yamaha', 'suzuki']\n",
      "['ducati', 'yamaha', 'suzuki']\n"
     ]
    }
   ],
   "source": [
    "motorcycles=['honda','yamaha','suzuki']\n",
    "print(motorcycles)\n",
    "#changing value at potion o\n",
    "motorcycles[0]='ducati'\n",
    "print(motorcycles)"
   ]
  },
  {
   "cell_type": "code",
   "execution_count": 12,
   "metadata": {},
   "outputs": [
    {
     "name": "stdout",
     "output_type": "stream",
     "text": [
      "['ducati', 'yamaha', 'suzuki', 'ducati', 'honda']\n"
     ]
    }
   ],
   "source": [
    "#Adding elements to a list\n",
    "motorcycles.append('honda')\n",
    "print(motorcycles)"
   ]
  },
  {
   "cell_type": "code",
   "execution_count": 13,
   "metadata": {},
   "outputs": [
    {
     "name": "stdout",
     "output_type": "stream",
     "text": [
      "['BMW', 'Audi', 'Bugati', 'Mercedes Benz', 'RR']\n"
     ]
    }
   ],
   "source": [
    "car=[]\n",
    "car.append('BMW')\n",
    "car.append('Audi')\n",
    "car.append('Bugati')\n",
    "car.append('Mercedes Benz')\n",
    "car.append('RR')\n",
    "print(car)"
   ]
  },
  {
   "cell_type": "code",
   "execution_count": 14,
   "metadata": {},
   "outputs": [
    {
     "name": "stdout",
     "output_type": "stream",
     "text": [
      "['Nano', 'BMW', 'Audi', 'Bugati', 'Mercedes Benz', 'RR']\n"
     ]
    }
   ],
   "source": [
    "#inserting element\n",
    "car.insert(0,'Nano')\n",
    "print(car)"
   ]
  },
  {
   "cell_type": "code",
   "execution_count": 15,
   "metadata": {},
   "outputs": [
    {
     "name": "stdout",
     "output_type": "stream",
     "text": [
      "['BMW', 'Audi', 'Bugati', 'Mercedes Benz', 'RR']\n"
     ]
    }
   ],
   "source": [
    "#Removing elements from a list\n",
    "del car[0]\n",
    "print(car)"
   ]
  },
  {
   "cell_type": "code",
   "execution_count": 18,
   "metadata": {},
   "outputs": [
    {
     "name": "stdout",
     "output_type": "stream",
     "text": [
      "['BMW', 'Audi']\n"
     ]
    }
   ],
   "source": [
    "#Removing an item using pop()\n",
    "car_poped=car.pop()\n",
    "print(car)"
   ]
  },
  {
   "cell_type": "code",
   "execution_count": 20,
   "metadata": {},
   "outputs": [
    {
     "name": "stdout",
     "output_type": "stream",
     "text": [
      "Bugati\n"
     ]
    }
   ],
   "source": [
    "print(car_poped)"
   ]
  },
  {
   "cell_type": "code",
   "execution_count": 21,
   "metadata": {},
   "outputs": [
    {
     "name": "stdout",
     "output_type": "stream",
     "text": [
      "['yamaha', 'suzuki', 'ducati', 'honda']\n"
     ]
    }
   ],
   "source": [
    "#Removing an item by value\n",
    "motorcycles.remove('ducati')\n",
    "print(motorcycles)"
   ]
  },
  {
   "cell_type": "code",
   "execution_count": 22,
   "metadata": {},
   "outputs": [
    {
     "name": "stdout",
     "output_type": "stream",
     "text": [
      "['Audi', 'BMW']\n"
     ]
    }
   ],
   "source": [
    "#sorting a list\n",
    "car.sort()\n",
    "print(car)"
   ]
  },
  {
   "cell_type": "code",
   "execution_count": 24,
   "metadata": {},
   "outputs": [
    {
     "name": "stdout",
     "output_type": "stream",
     "text": [
      "['Audi', 'BMW', 'Toyota']\n"
     ]
    }
   ],
   "source": [
    "car.append('Toyota')\n",
    "print(car)"
   ]
  },
  {
   "cell_type": "code",
   "execution_count": 25,
   "metadata": {},
   "outputs": [
    {
     "name": "stdout",
     "output_type": "stream",
     "text": [
      "['subaru', 'Audi', 'BMW', 'Toyota']\n"
     ]
    }
   ],
   "source": [
    "car.insert(0,'subaru')\n",
    "print(car)"
   ]
  },
  {
   "cell_type": "code",
   "execution_count": 27,
   "metadata": {},
   "outputs": [
    {
     "name": "stdout",
     "output_type": "stream",
     "text": [
      "['Audi', 'BMW', 'Toyota', 'subaru']\n"
     ]
    }
   ],
   "source": [
    "car.sort()\n",
    "print(car)"
   ]
  },
  {
   "cell_type": "code",
   "execution_count": 28,
   "metadata": {},
   "outputs": [
    {
     "name": "stdout",
     "output_type": "stream",
     "text": [
      "['subaru', 'Toyota', 'BMW', 'Audi']\n"
     ]
    }
   ],
   "source": [
    "car.sort(reverse=True)\n",
    "print(car)"
   ]
  },
  {
   "cell_type": "code",
   "execution_count": 29,
   "metadata": {},
   "outputs": [
    {
     "name": "stdout",
     "output_type": "stream",
     "text": [
      "Here is the original list:\n",
      "['subaru', 'Toyota', 'BMW', 'Audi']\n",
      "\n",
      "Here is the sorted list:\n",
      "['Audi', 'BMW', 'Toyota', 'subaru']\n",
      "\n",
      "Here is the original lsit again:\n",
      "['subaru', 'Toyota', 'BMW', 'Audi']\n"
     ]
    }
   ],
   "source": [
    "#Storing a list Temporarily with sorted() Function\n",
    "print(\"Here is the original list:\")\n",
    "print(car)\n",
    "print(\"\\nHere is the sorted list:\")\n",
    "print(sorted(car))\n",
    "print(\"\\nHere is the original lsit again:\")\n",
    "print(car)"
   ]
  },
  {
   "cell_type": "code",
   "execution_count": 30,
   "metadata": {},
   "outputs": [
    {
     "name": "stdout",
     "output_type": "stream",
     "text": [
      "['Audi', 'BMW', 'Toyota', 'subaru']\n"
     ]
    }
   ],
   "source": [
    "#Printing lsit in reverse order\n",
    "car.reverse()\n",
    "print(car)"
   ]
  },
  {
   "cell_type": "code",
   "execution_count": 31,
   "metadata": {},
   "outputs": [
    {
     "data": {
      "text/plain": [
       "4"
      ]
     },
     "execution_count": 31,
     "metadata": {},
     "output_type": "execute_result"
    }
   ],
   "source": [
    "#Finding length of the lsit\n",
    "len(car)"
   ]
  },
  {
   "cell_type": "code",
   "execution_count": 32,
   "metadata": {},
   "outputs": [
    {
     "name": "stdout",
     "output_type": "stream",
     "text": [
      "subaru\n"
     ]
    }
   ],
   "source": [
    "print(car[-1])"
   ]
  },
  {
   "cell_type": "code",
   "execution_count": 38,
   "metadata": {},
   "outputs": [
    {
     "name": "stdout",
     "output_type": "stream",
     "text": [
      "alice\n",
      "david\n",
      "carolina\n"
     ]
    }
   ],
   "source": [
    "magicians=['alice','david','carolina']\n",
    "for name in magicians:\n",
    "    print(name)\n",
    "   "
   ]
  },
  {
   "cell_type": "code",
   "execution_count": 41,
   "metadata": {},
   "outputs": [
    {
     "name": "stdout",
     "output_type": "stream",
     "text": [
      "Alice,that was a great trick!\n",
      "David,that was a great trick!\n",
      "Carolina,that was a great trick!\n",
      "Thank you, everyone. That was great magic show!\n"
     ]
    }
   ],
   "source": [
    "for woo in magicians:\n",
    "    print(f\"{woo.title()},that was a great trick!\")\n",
    "print(\"Thank you, everyone. That was great magic show!\")"
   ]
  },
  {
   "cell_type": "code",
   "execution_count": 43,
   "metadata": {},
   "outputs": [
    {
     "name": "stdout",
     "output_type": "stream",
     "text": [
      "Alice,that was a great trick!\n",
      "I can't wait to see your next trick Alice\n",
      "\n",
      "\n",
      "David,that was a great trick!\n",
      "I can't wait to see your next trick David\n",
      "\n",
      "\n",
      "Carolina,that was a great trick!\n",
      "I can't wait to see your next trick Carolina\n",
      "\n",
      "\n"
     ]
    }
   ],
   "source": [
    "for woo in magicians:\n",
    "    print(f\"{woo.title()},that was a great trick!\")\n",
    "    print(f\"I can't wait to see your next trick {woo.title()}\")\n",
    "    print(\"\\n\")"
   ]
  },
  {
   "cell_type": "code",
   "execution_count": 44,
   "metadata": {},
   "outputs": [
    {
     "name": "stdout",
     "output_type": "stream",
     "text": [
      "1\n",
      "2\n",
      "3\n",
      "4\n"
     ]
    }
   ],
   "source": [
    "#Making numarical list\n",
    "for value in range(1,5):\n",
    "    print(value)"
   ]
  },
  {
   "cell_type": "code",
   "execution_count": 46,
   "metadata": {},
   "outputs": [
    {
     "name": "stdout",
     "output_type": "stream",
     "text": [
      "[1, 2, 3, 4, 5]\n"
     ]
    }
   ],
   "source": [
    "#Using range() to make list of numbers\n",
    "numbers=list(range(1,6))\n",
    "print(numbers)"
   ]
  },
  {
   "cell_type": "code",
   "execution_count": 47,
   "metadata": {},
   "outputs": [
    {
     "name": "stdout",
     "output_type": "stream",
     "text": [
      "[2, 4, 6, 8]\n"
     ]
    }
   ],
   "source": [
    "even_list=list(range(2,10,2))\n",
    "print(even_list)"
   ]
  },
  {
   "cell_type": "code",
   "execution_count": 50,
   "metadata": {},
   "outputs": [
    {
     "data": {
      "text/plain": [
       "[1, 3, 5, 7, 9]"
      ]
     },
     "execution_count": 50,
     "metadata": {},
     "output_type": "execute_result"
    }
   ],
   "source": [
    "\n",
    "odd_list=list(range(1,10,2))\n",
    "odd_list"
   ]
  },
  {
   "cell_type": "code",
   "execution_count": 55,
   "metadata": {},
   "outputs": [
    {
     "name": "stdout",
     "output_type": "stream",
     "text": [
      "[1, 4, 9, 16, 25, 36, 49, 64, 81, 100]\n"
     ]
    }
   ],
   "source": [
    "squares=[]\n",
    "for val in range(1,11):\n",
    "    square=val**2\n",
    "    squares.append(square)\n",
    "print(squares)"
   ]
  },
  {
   "cell_type": "code",
   "execution_count": 57,
   "metadata": {},
   "outputs": [
    {
     "name": "stdout",
     "output_type": "stream",
     "text": [
      "0\n",
      "9\n"
     ]
    }
   ],
   "source": [
    "val=[1, 2, 3, 4, 5, 6, 7, 8, 9, 0]\n",
    "print(min(val))\n",
    "print(max(val))"
   ]
  },
  {
   "cell_type": "code",
   "execution_count": 58,
   "metadata": {},
   "outputs": [
    {
     "name": "stdout",
     "output_type": "stream",
     "text": [
      "[1, 4, 9, 16, 25, 36, 49, 64, 81, 100]\n"
     ]
    }
   ],
   "source": [
    "#List Comprehension\n",
    "squares=[val**2 for val in range(1,11)]\n",
    "print(squares)"
   ]
  },
  {
   "cell_type": "code",
   "execution_count": null,
   "metadata": {},
   "outputs": [],
   "source": []
  }
 ],
 "metadata": {
  "kernelspec": {
   "display_name": "venvnnv",
   "language": "python",
   "name": "python3"
  },
  "language_info": {
   "codemirror_mode": {
    "name": "ipython",
    "version": 3
   },
   "file_extension": ".py",
   "mimetype": "text/x-python",
   "name": "python",
   "nbconvert_exporter": "python",
   "pygments_lexer": "ipython3",
   "version": "3.12.0"
  }
 },
 "nbformat": 4,
 "nbformat_minor": 2
}
