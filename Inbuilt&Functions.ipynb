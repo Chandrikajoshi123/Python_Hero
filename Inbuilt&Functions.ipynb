{
 "cells": [
  {
   "cell_type": "markdown",
   "id": "f9ded286-7a30-45d7-a8dd-6b6342dacc85",
   "metadata": {},
   "source": [
    "# Set"
   ]
  },
  {
   "cell_type": "code",
   "execution_count": 4,
   "id": "23b6eb76-8db2-4834-8f10-4cdd4941921c",
   "metadata": {},
   "outputs": [
    {
     "name": "stdout",
     "output_type": "stream",
     "text": [
      "{1, 2, 3, 4, 5, 6, 7}\n"
     ]
    }
   ],
   "source": [
    "my_set={1,2,3,4,5,6,6,7,3,2}\n",
    "print(my_set)"
   ]
  },
  {
   "cell_type": "code",
   "execution_count": 3,
   "id": "3645b646-1fd9-4554-9944-b261577b581c",
   "metadata": {},
   "outputs": [
    {
     "name": "stdout",
     "output_type": "stream",
     "text": [
      "{0, 1, 2, 3, 4, 6, 7, 8}\n"
     ]
    }
   ],
   "source": [
    "me_set=set([1,3,4,6,8,3,2,0,1,1,7])\n",
    "print(me_set)\n"
   ]
  },
  {
   "cell_type": "code",
   "execution_count": 5,
   "id": "0a701bf7-d859-4471-8d14-ed10270d6df1",
   "metadata": {},
   "outputs": [
    {
     "name": "stdout",
     "output_type": "stream",
     "text": [
      "<class 'set'>\n",
      "<class 'set'>\n"
     ]
    }
   ],
   "source": [
    "print(type(me_set))\n",
    "print(type(my_set))"
   ]
  },
  {
   "cell_type": "code",
   "execution_count": 7,
   "id": "819283bd-4266-453a-9503-d9e622558347",
   "metadata": {},
   "outputs": [
    {
     "name": "stdout",
     "output_type": "stream",
     "text": [
      "set()\n",
      "<class 'set'>\n"
     ]
    }
   ],
   "source": [
    "my_empty_set=set()\n",
    "print(my_empty_set)\n",
    "print(type(my_empty_set))"
   ]
  },
  {
   "cell_type": "code",
   "execution_count": 11,
   "id": "01cf916e-dcf3-4067-a02f-c4c9af356f2d",
   "metadata": {},
   "outputs": [],
   "source": [
    "my_empty_set.add(7)"
   ]
  },
  {
   "cell_type": "code",
   "execution_count": 15,
   "id": "ad966f0c-c2f7-4c5e-a38a-e7c5e554656d",
   "metadata": {},
   "outputs": [
    {
     "data": {
      "text/plain": [
       "{7}"
      ]
     },
     "execution_count": 15,
     "metadata": {},
     "output_type": "execute_result"
    }
   ],
   "source": [
    "my_empety_set"
   ]
  },
  {
   "cell_type": "code",
   "execution_count": 18,
   "id": "592852d1-bc99-465c-a52c-8c20cfa38875",
   "metadata": {},
   "outputs": [
    {
     "name": "stdout",
     "output_type": "stream",
     "text": [
      "{0, 1, 2, 3, 4, 6, 7, 8, 10}\n"
     ]
    }
   ],
   "source": [
    "me_set.add(10)\n",
    "print(me_set)"
   ]
  },
  {
   "cell_type": "code",
   "execution_count": 20,
   "id": "46108362-791a-4acc-bf07-ef6f145f61dd",
   "metadata": {},
   "outputs": [
    {
     "name": "stdout",
     "output_type": "stream",
     "text": [
      "{0, 1, 2, 3, 4, 7, 8, 10}\n"
     ]
    }
   ],
   "source": [
    "me_set.remove(6)\n",
    "print(me_set)"
   ]
  },
  {
   "cell_type": "code",
   "execution_count": 24,
   "id": "f2e4d872-0ef0-4531-a49f-c82c72fcc20d",
   "metadata": {},
   "outputs": [
    {
     "name": "stdout",
     "output_type": "stream",
     "text": [
      "{0, 1, 2, 3, 4, 7, 8, 10}\n"
     ]
    }
   ],
   "source": [
    "me_set.discard(6)\n",
    "print(me_set)"
   ]
  },
  {
   "cell_type": "markdown",
   "id": "acb6ba68-834a-4498-aa57-6110e91894ca",
   "metadata": {},
   "source": [
    "**In case of remove function if the given value is't present in set it will give you an error but in the case of discard function it will simply give rest output without showing error**"
   ]
  },
  {
   "cell_type": "code",
   "execution_count": 27,
   "id": "a863d5e9-9cd9-4591-94cf-006998263725",
   "metadata": {},
   "outputs": [
    {
     "name": "stdout",
     "output_type": "stream",
     "text": [
      "0\n",
      "{1, 2, 3, 4, 7, 8, 10}\n"
     ]
    }
   ],
   "source": [
    "removed_element=me_set.pop()\n",
    "print(removed_element)\n",
    "print(me_set)"
   ]
  },
  {
   "cell_type": "code",
   "execution_count": 29,
   "id": "2e7e62da-0cde-4b52-ac43-aa356816eded",
   "metadata": {},
   "outputs": [
    {
     "name": "stdout",
     "output_type": "stream",
     "text": [
      "set()\n"
     ]
    }
   ],
   "source": [
    "me_set.clear()\n",
    "print(me_set)"
   ]
  },
  {
   "cell_type": "code",
   "execution_count": 31,
   "id": "c719857d-79b6-4889-a872-010fd2610775",
   "metadata": {},
   "outputs": [
    {
     "name": "stdout",
     "output_type": "stream",
     "text": [
      "True\n",
      "False\n"
     ]
    }
   ],
   "source": [
    "print(1 in my_set)\n",
    "print(20 in my_set)"
   ]
  },
  {
   "cell_type": "code",
   "execution_count": 33,
   "id": "298e89c9-83b5-4353-bde3-0d64d713a2bd",
   "metadata": {},
   "outputs": [],
   "source": [
    "set1=set([1,2,3,4])\n",
    "set2=set([4,5,6,1])"
   ]
  },
  {
   "cell_type": "code",
   "execution_count": 35,
   "id": "7227afb1-5b4f-4a93-8125-464a901669b9",
   "metadata": {},
   "outputs": [
    {
     "name": "stdout",
     "output_type": "stream",
     "text": [
      "{1, 2, 3, 4, 5, 6}\n"
     ]
    }
   ],
   "source": [
    "union_set=set1.union(set2)\n",
    "print(union_set)"
   ]
  },
  {
   "cell_type": "code",
   "execution_count": 37,
   "id": "36292a14-8d5b-45a8-acbb-c3afb8ac78f2",
   "metadata": {},
   "outputs": [
    {
     "name": "stdout",
     "output_type": "stream",
     "text": [
      "{1, 2, 3, 4, 5, 6}\n"
     ]
    }
   ],
   "source": [
    "uni_set=set2.union(set1)\n",
    "print(uni_set)"
   ]
  },
  {
   "cell_type": "code",
   "execution_count": 39,
   "id": "6a7f2c4e-6f50-45dc-a236-ad44e2ab9859",
   "metadata": {},
   "outputs": [
    {
     "name": "stdout",
     "output_type": "stream",
     "text": [
      "{1, 4}\n"
     ]
    }
   ],
   "source": [
    "intersection_set=set1.intersection(set2)\n",
    "print(intersection_set)"
   ]
  },
  {
   "cell_type": "code",
   "execution_count": 41,
   "id": "28d4bb05-76e3-481d-9e7d-6abd3610d9a9",
   "metadata": {},
   "outputs": [
    {
     "name": "stdout",
     "output_type": "stream",
     "text": [
      "{1, 4}\n"
     ]
    }
   ],
   "source": [
    "intr=set2.intersection(set1)\n",
    "print(intr)"
   ]
  },
  {
   "cell_type": "code",
   "execution_count": 43,
   "id": "244dab22-6d22-4160-b36c-59a9ed343e23",
   "metadata": {},
   "outputs": [
    {
     "name": "stdout",
     "output_type": "stream",
     "text": [
      "{1, 4}\n"
     ]
    }
   ],
   "source": [
    "set1.intersection_update(set2)\n",
    "print(set1)"
   ]
  },
  {
   "cell_type": "code",
   "execution_count": 45,
   "id": "7d1b437e-58d6-4aab-a199-02b7650dede1",
   "metadata": {},
   "outputs": [
    {
     "name": "stdout",
     "output_type": "stream",
     "text": [
      "set()\n"
     ]
    }
   ],
   "source": [
    "print(set1.difference(set2))"
   ]
  },
  {
   "cell_type": "code",
   "execution_count": 47,
   "id": "aed6df20-6e00-443d-99ed-08d21f9c92ca",
   "metadata": {},
   "outputs": [
    {
     "name": "stdout",
     "output_type": "stream",
     "text": [
      "{5, 6}\n"
     ]
    }
   ],
   "source": [
    "print(set2.difference(set1))"
   ]
  },
  {
   "cell_type": "code",
   "execution_count": 49,
   "id": "5d5cbc54-622f-4172-b88c-f6db769e1733",
   "metadata": {},
   "outputs": [
    {
     "name": "stdout",
     "output_type": "stream",
     "text": [
      "{1, 4} {1, 4, 5, 6}\n"
     ]
    }
   ],
   "source": [
    "print(set1,set2)"
   ]
  },
  {
   "cell_type": "code",
   "execution_count": 51,
   "id": "8fe939ee-caf3-46a3-9ece-5a83521cdf70",
   "metadata": {},
   "outputs": [
    {
     "data": {
      "text/plain": [
       "{5, 6}"
      ]
     },
     "execution_count": 51,
     "metadata": {},
     "output_type": "execute_result"
    }
   ],
   "source": [
    "set1.symmetric_difference(set2)"
   ]
  },
  {
   "cell_type": "code",
   "execution_count": 53,
   "id": "1ce16d1d-45b7-4340-9a4d-606f24697564",
   "metadata": {},
   "outputs": [
    {
     "name": "stdout",
     "output_type": "stream",
     "text": [
      "False\n"
     ]
    }
   ],
   "source": [
    "seta=set([1,2,3])\n",
    "setb=set([3,4,5])\n",
    "#is subset\n",
    "print(seta.issubset(setb)) "
   ]
  },
  {
   "cell_type": "code",
   "execution_count": 55,
   "id": "0511db11-b5dc-481f-82fd-2adc32b625b2",
   "metadata": {},
   "outputs": [
    {
     "name": "stdout",
     "output_type": "stream",
     "text": [
      "False\n"
     ]
    }
   ],
   "source": [
    "print(setb.issubset(seta)) "
   ]
  },
  {
   "cell_type": "code",
   "execution_count": 57,
   "id": "8288694e-0ead-40a6-8a15-5cedf3ed2c54",
   "metadata": {},
   "outputs": [
    {
     "name": "stdout",
     "output_type": "stream",
     "text": [
      "False\n"
     ]
    }
   ],
   "source": [
    "#superset\n",
    "print(seta.issuperset(setb))"
   ]
  },
  {
   "cell_type": "code",
   "execution_count": 59,
   "id": "9fbdc7c1-7cea-4cb6-a74c-112ce7c0845a",
   "metadata": {},
   "outputs": [
    {
     "data": {
      "text/plain": [
       "{1, 2, 3, 4, 5}"
      ]
     },
     "execution_count": 59,
     "metadata": {},
     "output_type": "execute_result"
    }
   ],
   "source": [
    "lt=[1,2,3,4,5,4,2]\n",
    "set(lt)\n"
   ]
  },
  {
   "cell_type": "code",
   "execution_count": 61,
   "id": "3531d6c8-6d84-46e6-a71d-62f170e20d0d",
   "metadata": {},
   "outputs": [
    {
     "data": {
      "text/plain": [
       "[1, 2, 3, 4, 5, 4, 2]"
      ]
     },
     "execution_count": 61,
     "metadata": {},
     "output_type": "execute_result"
    }
   ],
   "source": [
    "lt"
   ]
  },
  {
   "cell_type": "code",
   "execution_count": 63,
   "id": "9194a308-f5c5-4a8c-992a-31e73be8b37c",
   "metadata": {},
   "outputs": [
    {
     "name": "stdout",
     "output_type": "stream",
     "text": [
      "{1, 2, 3, 4, 5}\n",
      "[1, 2, 3, 4, 5]\n"
     ]
    }
   ],
   "source": [
    "lst_set=set(lt)\n",
    "print(lst_set)\n",
    "list=list(lst_set)\n",
    "print(list)"
   ]
  },
  {
   "cell_type": "code",
   "execution_count": 65,
   "id": "125321eb-f8c6-49a4-9738-3061388cbf5a",
   "metadata": {},
   "outputs": [],
   "source": [
    "#count unique words\n",
    "text=\"\"\"I hope this message finds you well. My name is Chandrika Joshi, and I am currently pursuing my master’s in Data Science and Statistics. I am deeply interested in pursuing a PhD and would like to inquire about the opportunities available through the Knight-Hennessy Scholars program.\n",
    "\n",
    "Could you kindly provide information about the application process, eligibility requirements, and how the program supports scholars in their academic and research journey? I am particularly interested in understanding how this program aligns with my aspirations in the field of data science and its potential impact on my future research goals.\n",
    "\n",
    " \"\"\"\n",
    "words=text.split()\n",
    "\n",
    "#convert list of words to set to get unique words\n",
    "uniqe_words=set(words)"
   ]
  },
  {
   "cell_type": "code",
   "execution_count": 67,
   "id": "fc600d3c-784f-474f-a112-a7167db4f3ca",
   "metadata": {},
   "outputs": [
    {
     "name": "stdout",
     "output_type": "stream",
     "text": [
      "{'data', 'deeply', 'my', 'program.', 'opportunities', 'PhD', 'journey?', 'would', 'with', 'scholars', 'provide', 'application', 'process,', 'to', 'impact', 'Statistics.', 'available', 'Joshi,', 'Science', 'program', 'on', 'My', 'academic', 'and', 'this', 'particularly', 'currently', 'finds', 'like', 'science', 'potential', 'is', 'message', 'goals.', 'master’s', 'research', 'well.', 'aligns', 'aspirations', 'its', 'you', 'hope', 'the', 'future', 'field', 'a', 'information', 'am', 'interested', 'I', 'in', 'Data', 'eligibility', 'requirements,', 'supports', 'inquire', 'through', 'Could', 'how', 'understanding', 'kindly', 'their', 'about', 'Knight-Hennessy', 'Chandrika', 'pursuing', 'name', 'Scholars', 'of'}\n"
     ]
    }
   ],
   "source": [
    "print(uniqe_words)"
   ]
  },
  {
   "cell_type": "markdown",
   "id": "38903032-a12c-4605-a2ca-6e9a5f5af95a",
   "metadata": {},
   "source": [
    "# Dictionaries"
   ]
  },
  {
   "cell_type": "code",
   "execution_count": 1,
   "id": "10f681c3-fad1-4a9b-8e00-1070f58c855f",
   "metadata": {},
   "outputs": [
    {
     "name": "stdout",
     "output_type": "stream",
     "text": [
      "<class 'dict'>\n"
     ]
    }
   ],
   "source": [
    "#create dictionaries\n",
    "dictionary={}\n",
    "print(type(dictionary))"
   ]
  },
  {
   "cell_type": "code",
   "execution_count": 3,
   "id": "e8713c33-f2ec-48fc-9bf8-9ce5e55b720a",
   "metadata": {},
   "outputs": [
    {
     "name": "stdout",
     "output_type": "stream",
     "text": [
      "<class 'dict'>\n"
     ]
    }
   ],
   "source": [
    "empty=dict()\n",
    "print(type(empty))"
   ]
  },
  {
   "cell_type": "code",
   "execution_count": 9,
   "id": "ffdd0989-b3a7-465b-a54b-419ecea4cb53",
   "metadata": {},
   "outputs": [],
   "source": [
    "dict_min=dict({\"Name\":\"MRM\",\"Age\":20,\"City\":\"Dubai\"})"
   ]
  },
  {
   "cell_type": "code",
   "execution_count": 11,
   "id": "0ea0a276-dfcd-4874-845a-6986368bb04e",
   "metadata": {},
   "outputs": [
    {
     "name": "stdout",
     "output_type": "stream",
     "text": [
      "{'Name': 'MRM', 'Age': 20, 'City': 'Dubai'}\n"
     ]
    }
   ],
   "source": [
    "print(dict_min)"
   ]
  },
  {
   "cell_type": "code",
   "execution_count": 15,
   "id": "0ab4e1e9-7906-465a-9499-8b60c049e4c5",
   "metadata": {},
   "outputs": [
    {
     "data": {
      "text/plain": [
       "'MRM'"
      ]
     },
     "execution_count": 15,
     "metadata": {},
     "output_type": "execute_result"
    }
   ],
   "source": [
    "#accesing dictionary element\n",
    "dict_min['Name']"
   ]
  },
  {
   "cell_type": "code",
   "execution_count": 17,
   "id": "2ae0aec2-2793-4bc6-9085-5d06292df3ab",
   "metadata": {},
   "outputs": [
    {
     "data": {
      "text/plain": [
       "20"
      ]
     },
     "execution_count": 17,
     "metadata": {},
     "output_type": "execute_result"
    }
   ],
   "source": [
    "dict_min['Age']"
   ]
  },
  {
   "cell_type": "code",
   "execution_count": 19,
   "id": "dd9f7a08-7bfb-443d-bdb5-f465ed38e886",
   "metadata": {},
   "outputs": [
    {
     "data": {
      "text/plain": [
       "'Dubai'"
      ]
     },
     "execution_count": 19,
     "metadata": {},
     "output_type": "execute_result"
    }
   ],
   "source": [
    "#accessing using get() method\n",
    "dict_min.get('City')"
   ]
  },
  {
   "cell_type": "code",
   "execution_count": 23,
   "id": "d272d978-e84d-405f-92fc-a90eeb2250f1",
   "metadata": {},
   "outputs": [
    {
     "name": "stdout",
     "output_type": "stream",
     "text": [
      "None\n"
     ]
    }
   ],
   "source": [
    "print(dict_min.get('Last Name'))"
   ]
  },
  {
   "cell_type": "code",
   "execution_count": 25,
   "id": "06ff2018-4c1e-40b2-b14d-b9f5ccdb3aa3",
   "metadata": {},
   "outputs": [
    {
     "name": "stdout",
     "output_type": "stream",
     "text": [
      "Not availabe\n"
     ]
    }
   ],
   "source": [
    "print(dict_min.get('Last Name',\"Not availabe\"))"
   ]
  },
  {
   "cell_type": "code",
   "execution_count": 27,
   "id": "836ca9a0-758d-48a4-8834-6e7ac103ebb4",
   "metadata": {},
   "outputs": [
    {
     "name": "stdout",
     "output_type": "stream",
     "text": [
      "{'Name': 'MRM', 'Age': 20, 'City': 'Dubai'}\n"
     ]
    }
   ],
   "source": [
    "#Modifyinf Dictionary elements\n",
    "#Dictionary are mutable so you can add update and delete elements \n",
    "print(dict_min)"
   ]
  },
  {
   "cell_type": "code",
   "execution_count": 29,
   "id": "6d438e01-c979-421a-af51-7d85f3ecbe84",
   "metadata": {},
   "outputs": [
    {
     "name": "stdout",
     "output_type": "stream",
     "text": [
      "{'Name': 'MRM', 'Age': 21, 'City': 'Dubai', 'Address': 'UK'}\n"
     ]
    }
   ],
   "source": [
    "#add new key and update age\n",
    "dict_min['Age']=21\n",
    "dict_min[\"Address\"]=\"UK\"\n",
    "print(dict_min)"
   ]
  },
  {
   "cell_type": "code",
   "execution_count": 31,
   "id": "a81cb1e9-0c0b-4573-838b-0402dcbe83d4",
   "metadata": {},
   "outputs": [
    {
     "name": "stdout",
     "output_type": "stream",
     "text": [
      "{'Name': 'MRM', 'Age': 21, 'City': 'Dubai'}\n"
     ]
    }
   ],
   "source": [
    "#Delete the key\n",
    "del dict_min['Address']\n",
    "print(dict_min)"
   ]
  },
  {
   "cell_type": "code",
   "execution_count": 49,
   "id": "5706c91e-9a6c-4925-927f-202bae9ce46a",
   "metadata": {},
   "outputs": [
    {
     "name": "stdout",
     "output_type": "stream",
     "text": [
      "dict_keys(['Name', 'Age', 'City'])\n",
      "dict_values(['MRM', 21, 'Dubai'])\n",
      "dict_items([('Name', 'MRM'), ('Age', 21), ('City', 'Dubai')])\n"
     ]
    }
   ],
   "source": [
    "#Dictionary methods\n",
    "kk=dict_min.keys() #all the keys\n",
    "print(kk)\n",
    "values=dict_min.values() #all the values\n",
    "print(values)\n",
    "\n",
    "items=dict_min.items() #all key value pairs\n",
    "print(items)"
   ]
  },
  {
   "cell_type": "code",
   "execution_count": 43,
   "id": "4ab91aa1-e6cc-450b-bded-cb1f1c58386b",
   "metadata": {},
   "outputs": [
    {
     "name": "stdout",
     "output_type": "stream",
     "text": [
      "{'Name': 'MRM', 'Age': 21, 'City': 'Dubai'}\n",
      "{'Name': 'MRM', 'Age': 21, 'City': 'Dubai'}\n"
     ]
    }
   ],
   "source": [
    "#shallow copy\n",
    "dict_copy=dict_min\n",
    "print(dict_min)\n",
    "print(dict_copy)"
   ]
  },
  {
   "cell_type": "code",
   "execution_count": 51,
   "id": "a3867c43-3f89-48b8-9ce0-9376382837da",
   "metadata": {},
   "outputs": [
    {
     "name": "stdout",
     "output_type": "stream",
     "text": [
      "{'Name': 'MRM', 'Age': 21, 'City': 'Dubai'}\n",
      "{'Name': 'MRM', 'Age': 21, 'City': 'Dubai'}\n"
     ]
    }
   ],
   "source": [
    "copy_dict=dict_min.copy() #shallow\n",
    "print(copy_dict)\n",
    "print(dict_min)"
   ]
  },
  {
   "cell_type": "code",
   "execution_count": 53,
   "id": "8cab1937-004d-46b8-8045-acb0b35c5892",
   "metadata": {},
   "outputs": [
    {
     "name": "stdout",
     "output_type": "stream",
     "text": [
      "{'Name': 'MRM', 'Age': 21, 'City': 'Rishikesh'}\n",
      "{'Name': 'MRM', 'Age': 21, 'City': 'Dubai'}\n"
     ]
    }
   ],
   "source": [
    "dict_min['City']='Rishikesh'\n",
    "print(dict_min)\n",
    "print(copy_dict)"
   ]
  },
  {
   "cell_type": "code",
   "execution_count": 55,
   "id": "6112dd4b-d016-4d0c-8b44-97c34d2d74ed",
   "metadata": {},
   "outputs": [
    {
     "name": "stdout",
     "output_type": "stream",
     "text": [
      "Name\n",
      "Age\n",
      "City\n"
     ]
    }
   ],
   "source": [
    "#iterating over dictionaries\n",
    "#can use loops to iterate over dictionaries,keys ,values, or items\n",
    "\n",
    "#Iterating over keys\n",
    "for keys in dict_min.keys():\n",
    "    print(keys)"
   ]
  },
  {
   "cell_type": "code",
   "execution_count": 57,
   "id": "0f69422e-810b-48ea-89b8-14a8b642c677",
   "metadata": {},
   "outputs": [
    {
     "name": "stdout",
     "output_type": "stream",
     "text": [
      "MRM\n",
      "21\n",
      "Rishikesh\n"
     ]
    }
   ],
   "source": [
    "for values in dict_min.values():\n",
    "    print(values)"
   ]
  },
  {
   "cell_type": "code",
   "execution_count": 59,
   "id": "5388a3bd-8293-4dbd-870d-126d89e4c8d5",
   "metadata": {},
   "outputs": [
    {
     "name": "stdout",
     "output_type": "stream",
     "text": [
      "('Name', 'MRM')\n",
      "('Age', 21)\n",
      "('City', 'Rishikesh')\n"
     ]
    }
   ],
   "source": [
    "for items in dict_min.items():\n",
    "    print(items)"
   ]
  },
  {
   "cell_type": "code",
   "execution_count": 61,
   "id": "2347d28d-5194-40b9-ba60-aaa0aca58f5d",
   "metadata": {},
   "outputs": [
    {
     "name": "stdout",
     "output_type": "stream",
     "text": [
      "{'Student1': {'Name': 'mrm', 'age': 20}, 'Student2': {'Name': 'Chandrika', 'age': 20}}\n"
     ]
    }
   ],
   "source": [
    "# Nested dictionaries\n",
    "# dict inside dict\n",
    "dicto={\n",
    "    'Student1':{'Name':'mrm','age':20},\n",
    "    'Student2':{'Name':'Chandrika','age':20}\n",
    "          \n",
    "}\n",
    "print(dicto)"
   ]
  },
  {
   "cell_type": "code",
   "execution_count": 65,
   "id": "fba1e041-d3e1-40f4-a6f9-af2ff2732a3a",
   "metadata": {},
   "outputs": [
    {
     "name": "stdout",
     "output_type": "stream",
     "text": [
      "mrm\n"
     ]
    }
   ],
   "source": [
    "#Access nested dictionaries elements\n",
    "print(dicto['Student1']['Name'])"
   ]
  },
  {
   "cell_type": "code",
   "execution_count": 67,
   "id": "3c1d00e7-906d-41e3-8c51-4f5a81b86388",
   "metadata": {},
   "outputs": [
    {
     "name": "stdout",
     "output_type": "stream",
     "text": [
      "('Student1', {'Name': 'mrm', 'age': 20})\n",
      "('Student2', {'Name': 'Chandrika', 'age': 20})\n"
     ]
    }
   ],
   "source": [
    "#iterating over nested dictionaries\n",
    "for items in dicto.items():\n",
    "    print(items)"
   ]
  },
  {
   "cell_type": "code",
   "execution_count": 71,
   "id": "d71c4189-9b46-4f54-83a8-ab92b745f51b",
   "metadata": {},
   "outputs": [
    {
     "name": "stdout",
     "output_type": "stream",
     "text": [
      "Student1:{'Name': 'mrm', 'age': 20}\n",
      "Name:mrm\n",
      "age:20\n",
      "Student2:{'Name': 'Chandrika', 'age': 20}\n",
      "Name:Chandrika\n",
      "age:20\n"
     ]
    }
   ],
   "source": [
    "for student_id,student_info in dicto.items():\n",
    "    print(f\"{student_id}:{student_info}\")\n",
    "    for key,value in student_info.items():\n",
    "        print(f\"{key}:{value}\")"
   ]
  },
  {
   "cell_type": "code",
   "execution_count": 73,
   "id": "6e632404-a6d2-4cec-9574-05950236d838",
   "metadata": {},
   "outputs": [
    {
     "name": "stdout",
     "output_type": "stream",
     "text": [
      "{0: 0, 1: 1, 2: 4, 3: 9, 4: 16}\n"
     ]
    }
   ],
   "source": [
    "#Dictionary comprehsion\n",
    "squares={x:x**2 for x in range(5)}\n",
    "print(squares)"
   ]
  },
  {
   "cell_type": "code",
   "execution_count": 75,
   "id": "2bf0d539-306a-41ce-bec5-922af7407421",
   "metadata": {},
   "outputs": [
    {
     "name": "stdout",
     "output_type": "stream",
     "text": [
      "{0: 0, 2: 2, 4: 4, 6: 6, 8: 8}\n"
     ]
    }
   ],
   "source": [
    "#condition dictionary comprehension\n",
    "evens={x:x**1 for x in range(10) if x%2==0}\n",
    "print(evens)"
   ]
  },
  {
   "cell_type": "code",
   "execution_count": 77,
   "id": "e0ae3d00-f310-4e83-8350-57b1282cca2d",
   "metadata": {},
   "outputs": [
    {
     "name": "stdout",
     "output_type": "stream",
     "text": [
      "{0: 0, 2: 4, 4: 16, 6: 36, 8: 64}\n"
     ]
    }
   ],
   "source": [
    "evens={x:x**2 for x in range(10) if x%2==0}\n",
    "print(evens)"
   ]
  },
  {
   "cell_type": "code",
   "execution_count": 83,
   "id": "2db96965-45be-4358-9921-f1a7bf4cfd29",
   "metadata": {},
   "outputs": [],
   "source": [
    "#use a dictionary to count the frequeny elements in list\n",
    "numbers=[1,2,3,3,6,4,8,9,3,6]\n",
    "frequency={}\n",
    "for numbers in numbers:\n",
    "    if numbers in frequency:\n",
    "        frequency[numbers]+=1\n",
    "    else:\n",
    "        frequency[numbers]=1"
   ]
  },
  {
   "cell_type": "code",
   "execution_count": 85,
   "id": "82bae784-a205-492a-a1c0-1fb546e86d78",
   "metadata": {},
   "outputs": [
    {
     "name": "stdout",
     "output_type": "stream",
     "text": [
      "{1: 1, 2: 1, 3: 3, 6: 2, 4: 1, 8: 1, 9: 1}\n"
     ]
    }
   ],
   "source": [
    "print(frequency)"
   ]
  },
  {
   "cell_type": "code",
   "execution_count": 87,
   "id": "b0294d2a-bedc-4c67-b1bf-e30720a84de4",
   "metadata": {},
   "outputs": [
    {
     "name": "stdout",
     "output_type": "stream",
     "text": [
      "{'data': 1, 'deeply': 1, 'my': 1, 'program.': 1, 'opportunities': 1, 'PhD': 1, 'journey?': 1, 'would': 1, 'with': 1, 'scholars': 1, 'provide': 1, 'application': 1, 'process,': 1, 'to': 1, 'impact': 1, 'Statistics.': 1, 'available': 1, 'Joshi,': 1, 'Science': 1, 'program': 1, 'on': 1, 'My': 1, 'academic': 1, 'and': 1, 'this': 1, 'particularly': 1, 'currently': 1, 'finds': 1, 'like': 1, 'science': 1, 'potential': 1, 'is': 1, 'message': 1, 'goals.': 1, 'master’s': 1, 'research': 1, 'well.': 1, 'aligns': 1, 'aspirations': 1, 'its': 1, 'you': 1, 'hope': 1, 'the': 1, 'future': 1, 'field': 1, 'a': 1, 'information': 1, 'am': 1, 'interested': 1, 'I': 1, 'in': 1, 'Data': 1, 'eligibility': 1, 'requirements,': 1, 'supports': 1, 'inquire': 1, 'through': 1, 'Could': 1, 'how': 1, 'understanding': 1, 'kindly': 1, 'their': 1, 'about': 1, 'Knight-Hennessy': 1, 'Chandrika': 1, 'pursuing': 1, 'name': 1, 'Scholars': 1, 'of': 1}\n"
     ]
    }
   ],
   "source": [
    "lst=['data', 'deeply', 'my', 'program.', 'opportunities', 'PhD', 'journey?', 'would', 'with', 'scholars', 'provide', 'application', 'process,', 'to', 'impact', 'Statistics.', 'available', 'Joshi,', 'Science', 'program', 'on', 'My', 'academic', 'and', 'this', 'particularly', 'currently', 'finds', 'like', 'science', 'potential', 'is', 'message', 'goals.', 'master’s', 'research', 'well.', 'aligns', 'aspirations', 'its', 'you', 'hope', 'the', 'future', 'field', 'a', 'information', 'am', 'interested', 'I', 'in', 'Data', 'eligibility', 'requirements,', 'supports', 'inquire', 'through', 'Could', 'how', 'understanding', 'kindly', 'their', 'about', 'Knight-Hennessy', 'Chandrika', 'pursuing', 'name', 'Scholars', 'of']\n",
    "frequency={}\n",
    "for value in lst:\n",
    "    if value in frequency:\n",
    "        frequency[value]+=1\n",
    "    else:\n",
    "        frequency[value]=1\n",
    "print(frequency)"
   ]
  },
  {
   "cell_type": "code",
   "execution_count": 91,
   "id": "6d7de3d3-d4a0-400a-b16f-36908ad4fb6a",
   "metadata": {},
   "outputs": [
    {
     "name": "stdout",
     "output_type": "stream",
     "text": [
      "{'a': 1, 'b': 2}\n",
      "{'b': 3, 'c': 4}\n",
      "{'a': 1, 'b': 3, 'c': 4}\n"
     ]
    }
   ],
   "source": [
    "#merge two dictionary\n",
    "dict1={'a':1,'b':2}\n",
    "dict2={'b':3,'c':4}\n",
    "merged_dict={**dict1,**dict2} #keywords argument\n",
    "print(dict1)\n",
    "print(dict2)\n",
    "print(merged_dict)"
   ]
  },
  {
   "cell_type": "markdown",
   "id": "efd09bd5-bd2c-4aa1-b6df-1e7294ef9e8c",
   "metadata": {},
   "source": [
    "**Lists are one of the most commomly used data structures in python**"
   ]
  },
  {
   "cell_type": "markdown",
   "id": "b78d8998-e4d7-4ebb-a3d9-683efe2135fc",
   "metadata": {},
   "source": [
    "# Functions"
   ]
  },
  {
   "cell_type": "code",
   "execution_count": 4,
   "id": "850953ed-30b4-48b4-afc1-0ad103b04aa8",
   "metadata": {},
   "outputs": [
    {
     "data": {
      "text/plain": [
       "2"
      ]
     },
     "execution_count": 4,
     "metadata": {},
     "output_type": "execute_result"
    }
   ],
   "source": [
    "def multyply(a,b):\n",
    "    return a*b\n",
    "multyply(1,2)"
   ]
  },
  {
   "cell_type": "markdown",
   "id": "79ce69f4-65ec-484d-a586-49a07e1693da",
   "metadata": {},
   "source": [
    "## Temperature conversion"
   ]
  },
  {
   "cell_type": "code",
   "execution_count": 8,
   "id": "7053d5c6-05cd-418c-923e-0d22846896b3",
   "metadata": {},
   "outputs": [
    {
     "name": "stdout",
     "output_type": "stream",
     "text": [
      "77.0\n",
      "25.0\n"
     ]
    }
   ],
   "source": [
    "#Temperature conversion\n",
    "def convert_temp(temp,unit):\n",
    "    'This function convert temperature to celcius and Fahrenheit'\n",
    "    if unit=='C':\n",
    "        return temp*9/5+32 #celsius to Fahrenheit\n",
    "    elif unit=='F':\n",
    "        return (temp-32)*5/9 #f to c\n",
    "    else:\n",
    "        return Null\n",
    "print(convert_temp(25,'C'))\n",
    "print(convert_temp(77,'F'))"
   ]
  },
  {
   "cell_type": "code",
   "execution_count": 18,
   "id": "2909592b-aca8-4f8a-8d9e-adc534c87dac",
   "metadata": {},
   "outputs": [
    {
     "name": "stdin",
     "output_type": "stream",
     "text": [
      "Enter the Temperature: 25\n",
      "Enter the unit of Temperature: C\n"
     ]
    },
    {
     "name": "stdout",
     "output_type": "stream",
     "text": [
      "The actual temperature is:25C and converted into 77.0\n"
     ]
    }
   ],
   "source": [
    "temp=int(input(\"Enter the Temperature:\"))\n",
    "unit=input(\"Enter the unit of Temperature:\")\n",
    "def convert_temperature(temp,unit):\n",
    "    if unit=='C':\n",
    "        return (temp*9/5)+32 #Celsius to Fahrenheit\n",
    "    elif unit=='F':\n",
    "        return (temp-32)*5/9 #Fahrenheit to Celsius\n",
    "    else:\n",
    "        return 'None'\n",
    "Answer=convert_temperature(temp,unit)\n",
    "print(f\"The actual temperature is:{temp}{unit} and converted into:{Answer}\")\n",
    "         "
   ]
  },
  {
   "cell_type": "markdown",
   "id": "729f2213-f836-4950-86db-84a255f61c2a",
   "metadata": {},
   "source": [
    "## Password Strength Checker"
   ]
  },
  {
   "cell_type": "code",
   "execution_count": 21,
   "id": "0916ad1a-8e28-40a9-98e4-a3c9c68b1bd7",
   "metadata": {},
   "outputs": [
    {
     "name": "stdin",
     "output_type": "stream",
     "text": [
      "Enter your password: chandrika7\n"
     ]
    },
    {
     "name": "stdout",
     "output_type": "stream",
     "text": [
      "The password is strong :)\n",
      "None\n"
     ]
    }
   ],
   "source": [
    "def password_strength_checker(password):\n",
    "    if len(password)==6:\n",
    "        print(\"This is good password\")\n",
    "    if len(password)<6:\n",
    "        print(\"Password is weak :( Try again\")\n",
    "    if len(password)>6&len(password)<10:\n",
    "        print(\"The password is strong :)\")\n",
    "\n",
    "password=input(\"Enter your password:\")\n",
    "print(password_strength_checker(password))"
   ]
  },
  {
   "cell_type": "code",
   "execution_count": 23,
   "id": "f05b2ef8-5b10-4f49-a09c-489e0f74ce8f",
   "metadata": {},
   "outputs": [
    {
     "name": "stdin",
     "output_type": "stream",
     "text": [
      "Enter your password: Chandrika$7\n"
     ]
    },
    {
     "name": "stdout",
     "output_type": "stream",
     "text": [
      "The password is: Chandrika$7 is =True\n"
     ]
    }
   ],
   "source": [
    "def is_strong_password(password):\n",
    "    if len(password)<6:\n",
    "        return False\n",
    "    if not any(char.isdigit() for char in password):\n",
    "        return False\n",
    "    if not any(char.islower() for char in password):\n",
    "        return False\n",
    "    if not any(char.isupper() for char in password):\n",
    "        return False\n",
    "    if not any(char in '!@#$%^&()+_*' for char in password):\n",
    "        return False\n",
    "    return True\n",
    "password=input(\"Enter your password:\")\n",
    "response=is_strong_password(password)\n",
    "print(f\"The password is: {password} is ={response}\")\n",
    "    "
   ]
  },
  {
   "cell_type": "markdown",
   "id": "62e64977-63fb-4fc3-8dd0-8d5b13db76e7",
   "metadata": {},
   "source": [
    "## Calculate the Total Cost of Items in a Shopping Cart"
   ]
  },
  {
   "cell_type": "code",
   "execution_count": 27,
   "id": "0b0123de-f6c1-4c19-b709-19a99040584f",
   "metadata": {},
   "outputs": [
    {
     "data": {
      "text/plain": [
       "43.0"
      ]
     },
     "execution_count": 27,
     "metadata": {},
     "output_type": "execute_result"
    }
   ],
   "source": [
    "def cost_calcu(cart):\n",
    "    total_cost=0\n",
    "    for item in cart:\n",
    "        total_cost+=item['price']*item['quantity']\n",
    "    return total_cost\n",
    "\n",
    "#Example cart data\n",
    "cart=[\n",
    "    {'name':'Apple','price':0.5,'quantity':4},\n",
    "    {'name':'Banana','price':0.3,'quantity':9},\n",
    "    {'name':'Orange','price':0.8,'quantity':40},\n",
    "    {'name':'Pie','price':0.9,'quantity':7}\n",
    "]\n",
    "cost_calcu(cart)"
   ]
  },
  {
   "cell_type": "markdown",
   "id": "01cfb7b4-6f71-452e-8366-d1ad1d1a93c8",
   "metadata": {},
   "source": [
    "## Check if string is Palindrome"
   ]
  },
  {
   "cell_type": "code",
   "execution_count": 5,
   "id": "037a4f61-ad1a-4602-a70f-e76a0a97c9ad",
   "metadata": {},
   "outputs": [
    {
     "name": "stdout",
     "output_type": "stream",
     "text": [
      "False\n",
      "False\n"
     ]
    }
   ],
   "source": [
    "# fromfront and back both are same is palindrome\n",
    "def is_palindrome(s):\n",
    "    s=s.lower().replace(\" \",\" \")\n",
    "    return s==s[::-1]\n",
    "print(is_palindrome('panama'))\n",
    "print(is_palindrome('Hello'))"
   ]
  },
  {
   "cell_type": "markdown",
   "id": "8794c1e2-fe0f-43b0-b574-a75ac50adaa6",
   "metadata": {},
   "source": [
    "## Calculate Factorial of a number using recursion"
   ]
  },
  {
   "cell_type": "code",
   "execution_count": 10,
   "id": "21030db4-1c6c-40f6-890a-e16108f203f1",
   "metadata": {},
   "outputs": [
    {
     "name": "stdin",
     "output_type": "stream",
     "text": [
      "Enter your number: 6\n"
     ]
    },
    {
     "name": "stdout",
     "output_type": "stream",
     "text": [
      "720\n"
     ]
    }
   ],
   "source": [
    "def fect(numb):\n",
    "    if numb==0:\n",
    "        return 1\n",
    "    else:\n",
    "        return numb*fect(numb-1)\n",
    "numb=int(input(\"Enter your number:\"))\n",
    "print(fect(numb))"
   ]
  },
  {
   "cell_type": "markdown",
   "id": "7cc3469e-8622-438b-9b07-57256476974b",
   "metadata": {},
   "source": [
    "## Function to read a file and count the frequency of each word"
   ]
  },
  {
   "cell_type": "code",
   "execution_count": null,
   "id": "630d2c10-c193-4253-8dcf-0ae331e6fa0b",
   "metadata": {},
   "outputs": [],
   "source": [
    "def count_word_frequency(file_path):\n",
    "    word_count={}\n",
    "    with open(file_path,'r') as file:\n",
    "        for line in file:\n",
    "            words=line.split()\n",
    "            for word in word:\n",
    "                word=word.lower().strip()\n",
    "                "
   ]
  },
  {
   "cell_type": "markdown",
   "id": "8feb66f4-095b-4400-955b-eb31908e81b1",
   "metadata": {},
   "source": [
    "# Lambda Function"
   ]
  },
  {
   "cell_type": "markdown",
   "id": "f8963dd7-42f7-4ba2-bd73-285a04107da1",
   "metadata": {},
   "source": [
    "**Lambda functions are small anonymous functions define using the lambda keyword. They can have any numbeof arguments but only one expression. They are commonly used for short operations or as arguments to higher-order functions.**"
   ]
  },
  {
   "cell_type": "code",
   "execution_count": 6,
   "id": "a8ae66fb-febe-4e97-995a-c7a7f9bc3746",
   "metadata": {},
   "outputs": [
    {
     "data": {
      "text/plain": [
       "<function __main__.<lambda>(arguments)>"
      ]
     },
     "execution_count": 6,
     "metadata": {},
     "output_type": "execute_result"
    }
   ],
   "source": [
    "#Syntax\n",
    "lambda arguments: expression"
   ]
  },
  {
   "cell_type": "code",
   "execution_count": 8,
   "id": "275b18fe-4c6b-4116-91c6-3e2e701caae9",
   "metadata": {},
   "outputs": [],
   "source": [
    "def addition(a,b):\n",
    "    return a+b"
   ]
  },
  {
   "cell_type": "code",
   "execution_count": 12,
   "id": "8f1842d6-ca2e-4fa4-a9b7-f6df0d374ca6",
   "metadata": {},
   "outputs": [
    {
     "data": {
      "text/plain": [
       "7"
      ]
     },
     "execution_count": 12,
     "metadata": {},
     "output_type": "execute_result"
    }
   ],
   "source": [
    "addition(4,3)"
   ]
  },
  {
   "cell_type": "code",
   "execution_count": 16,
   "id": "f0307e75-f4b2-43f4-b9e7-a3237a1b0b47",
   "metadata": {},
   "outputs": [
    {
     "name": "stdout",
     "output_type": "stream",
     "text": [
      "6\n",
      "<class 'function'>\n"
     ]
    }
   ],
   "source": [
    "add=lambda a,b:a+b\n",
    "print(add(4,2))\n",
    "print(type(add))"
   ]
  },
  {
   "cell_type": "code",
   "execution_count": 18,
   "id": "fa044ed9-7cb3-4806-beb2-2149ee81866b",
   "metadata": {},
   "outputs": [
    {
     "name": "stdout",
     "output_type": "stream",
     "text": [
      "True\n"
     ]
    }
   ],
   "source": [
    "even1=lambda num:num%2==0\n",
    "print(even1(20))"
   ]
  },
  {
   "cell_type": "code",
   "execution_count": 20,
   "id": "e2ed247b-d1aa-497c-858a-c237c0c6fcce",
   "metadata": {},
   "outputs": [
    {
     "name": "stdout",
     "output_type": "stream",
     "text": [
      "13\n"
     ]
    }
   ],
   "source": [
    "three_addition=lambda x,y,z:x+y+z\n",
    "print(three_addition(2,5,6))"
   ]
  },
  {
   "cell_type": "code",
   "execution_count": 36,
   "id": "381d5c01-f67b-4cd0-864d-ccf05ab16c4b",
   "metadata": {},
   "outputs": [
    {
     "name": "stdout",
     "output_type": "stream",
     "text": [
      "36\n"
     ]
    },
    {
     "data": {
      "text/plain": [
       "[1, 4, 9, 16, 25, 36]"
      ]
     },
     "execution_count": 36,
     "metadata": {},
     "output_type": "execute_result"
    }
   ],
   "source": [
    "numbers=[1,2,3,4,5,6]\n",
    "#squared_number\n",
    "def squared(numbers):\n",
    "    return numbers**2\n",
    "print(squared(6))\n",
    "##map()\n",
    "list(map(lambda x:x**2,numbers))"
   ]
  },
  {
   "cell_type": "markdown",
   "id": "f6bf8155-f91e-41e6-9d5f-c32543cce12f",
   "metadata": {},
   "source": [
    "# Map Function"
   ]
  },
  {
   "cell_type": "markdown",
   "id": "92d58e74-e6e0-4991-8209-5468904e5ed1",
   "metadata": {},
   "source": [
    "**The map function applies a given function to all items in an input list(or any other iterable) and returns a map object(an iterator). This is particularly useful for transforming data in a list comprehensively.**"
   ]
  },
  {
   "cell_type": "code",
   "execution_count": 41,
   "id": "57573793-0972-483a-968a-326f84a21dc7",
   "metadata": {},
   "outputs": [
    {
     "data": {
      "text/plain": [
       "[4, 16, 36, 64, 100, 16]"
      ]
     },
     "execution_count": 41,
     "metadata": {},
     "output_type": "execute_result"
    }
   ],
   "source": [
    "numbers=[2,4,6,8,10,4]\n",
    "list(map(lambda x:x**2,numbers))"
   ]
  },
  {
   "cell_type": "code",
   "execution_count": 45,
   "id": "5fa7f036-923b-4434-9fe2-4e065785bba1",
   "metadata": {},
   "outputs": [
    {
     "data": {
      "text/plain": [
       "[4, 16, 36, 64, 100, 16]"
      ]
     },
     "execution_count": 45,
     "metadata": {},
     "output_type": "execute_result"
    }
   ],
   "source": [
    "list(map(squared,numbers))"
   ]
  },
  {
   "cell_type": "code",
   "execution_count": 53,
   "id": "b00c0f01-323e-4bc3-b971-4c4c28cdda40",
   "metadata": {},
   "outputs": [
    {
     "data": {
      "text/plain": [
       "[5, 7, 9]"
      ]
     },
     "execution_count": 53,
     "metadata": {},
     "output_type": "execute_result"
    }
   ],
   "source": [
    "#map multiple iterables\n",
    "numb1=[4,5,6]\n",
    "numb2=[1,2,3]\n",
    "list(map(lambda x,y:x+y,numb1,numb2))"
   ]
  },
  {
   "cell_type": "code",
   "execution_count": 55,
   "id": "ac5e1162-d70d-432a-afcb-5092ee541bf4",
   "metadata": {},
   "outputs": [
    {
     "name": "stdout",
     "output_type": "stream",
     "text": [
      "[1, 2, 3, 4, 5]\n"
     ]
    }
   ],
   "source": [
    "#map to convert a list of strings to integers\n",
    "#use map to convert strings to integers\n",
    "str_numbers=['1','2','3','4','5']\n",
    "int_numbers=list(map(int,str_numbers))\n",
    "print(int_numbers)"
   ]
  },
  {
   "cell_type": "code",
   "execution_count": 57,
   "id": "2192056f-24fe-4294-9104-4519590fe939",
   "metadata": {},
   "outputs": [
    {
     "name": "stdout",
     "output_type": "stream",
     "text": [
      "['APPLE', 'BANANA', 'BERRY']\n"
     ]
    }
   ],
   "source": [
    "words=['apple','banana','berry']\n",
    "upper_word=list(map(str.upper,words))\n",
    "print(upper_word)"
   ]
  },
  {
   "cell_type": "code",
   "execution_count": 63,
   "id": "dc2a86d6-3677-4e41-a9d2-6b0eb2da4169",
   "metadata": {},
   "outputs": [
    {
     "data": {
      "text/plain": [
       "['Chandrika', 'Xyz']"
      ]
     },
     "execution_count": 63,
     "metadata": {},
     "output_type": "execute_result"
    }
   ],
   "source": [
    "def get_name(person):\n",
    "    return person['name']\n",
    "people=[\n",
    "    {'name':'Chandrika','age':20},\n",
    "    {'name':'Xyz','age':23}\n",
    "]\n",
    "list(map(get_name,people))"
   ]
  },
  {
   "cell_type": "markdown",
   "id": "653a3427-47ef-4ef7-bf06-0745f667c2ef",
   "metadata": {},
   "source": [
    "**map() function is powerful tool for applying transformations to iterable data structures. It can be used with regular functions, lambda functions, and even multiple iterables, providing a versatile approach to data processing in python.**"
   ]
  },
  {
   "cell_type": "markdown",
   "id": "4fd2f2a7-93af-4e5f-b6a0-c6280415584f",
   "metadata": {},
   "source": [
    "# Filter Function"
   ]
  },
  {
   "cell_type": "markdown",
   "id": "e62951a9-b7f8-4595-b02b-3e6f098bfe10",
   "metadata": {},
   "source": [
    "**filter() function construct an iterator from elements of an iterable for which a function returns true. It is used to filter out items from a list(or any other iterable) based on a condition.** "
   ]
  },
  {
   "cell_type": "code",
   "execution_count": 76,
   "id": "841d75b8-8655-4286-aa9a-b3901b93b4cc",
   "metadata": {},
   "outputs": [
    {
     "name": "stdout",
     "output_type": "stream",
     "text": [
      "4\n"
     ]
    }
   ],
   "source": [
    "def even(num):\n",
    "    if num%2==0:\n",
    "        print(num)\n",
    "even(4)"
   ]
  },
  {
   "cell_type": "code",
   "execution_count": 80,
   "id": "e1fd22d6-a9a9-4a07-91d4-58c95ca006e0",
   "metadata": {},
   "outputs": [
    {
     "name": "stdout",
     "output_type": "stream",
     "text": [
      "4\n",
      "6\n",
      "2\n",
      "0\n",
      "[]\n"
     ]
    }
   ],
   "source": [
    "lst=[3,4,6,2,1,7,9,0]\n",
    "print(list(filter(even,lst)))"
   ]
  },
  {
   "cell_type": "code",
   "execution_count": 82,
   "id": "f9313871-a083-4e54-ab73-552e26d62fd0",
   "metadata": {},
   "outputs": [
    {
     "name": "stdout",
     "output_type": "stream",
     "text": [
      "[6, 7, 8]\n"
     ]
    }
   ],
   "source": [
    "#Filter with lambda function\n",
    "number=[1,2,3,4,5,6,7,8]\n",
    "greater_five=list(filter(lambda x:x>5,number))\n",
    "print(greater_five)"
   ]
  },
  {
   "cell_type": "code",
   "execution_count": 84,
   "id": "e17eddbb-4f0c-4854-943a-d7b07ecb1409",
   "metadata": {},
   "outputs": [
    {
     "name": "stdout",
     "output_type": "stream",
     "text": [
      "[6, 8, 10, 22]\n"
     ]
    }
   ],
   "source": [
    "#Filter with lambda function and multiple condition\n",
    "number=[1,3,4,2,5,6,8,9,7,10,22]\n",
    "even_greater_then_five=list(filter(lambda x:x>5 and x%2==0,number))\n",
    "print(even_greater_then_five)"
   ]
  },
  {
   "cell_type": "code",
   "execution_count": 88,
   "id": "34fcffc5-a5fc-4231-84d2-526a27ff4e37",
   "metadata": {},
   "outputs": [
    {
     "data": {
      "text/plain": [
       "[{'name': 'wooou', 'age': 30}]"
      ]
     },
     "execution_count": 88,
     "metadata": {},
     "output_type": "execute_result"
    }
   ],
   "source": [
    "# check if the age is greater than 25 in dict\n",
    "people=[\n",
    "    {'name':'Chandrika','age':20},\n",
    "    {'name':'Xyz','age':23},\n",
    "    {'name':'wooou','age':30}]\n",
    "def greater_than_25(person):\n",
    "    return person['age']>25\n",
    "lst=list(filter(greater_than_25,people))\n",
    "lst\n",
    "    "
   ]
  },
  {
   "cell_type": "code",
   "execution_count": null,
   "id": "b3b94da2-a0dd-4270-afc4-d58cc8be9ee8",
   "metadata": {},
   "outputs": [],
   "source": []
  }
 ],
 "metadata": {
  "kernelspec": {
   "display_name": "Python 3 (ipykernel)",
   "language": "python",
   "name": "python3"
  },
  "language_info": {
   "codemirror_mode": {
    "name": "ipython",
    "version": 3
   },
   "file_extension": ".py",
   "mimetype": "text/x-python",
   "name": "python",
   "nbconvert_exporter": "python",
   "pygments_lexer": "ipython3",
   "version": "3.12.4"
  }
 },
 "nbformat": 4,
 "nbformat_minor": 5
}
