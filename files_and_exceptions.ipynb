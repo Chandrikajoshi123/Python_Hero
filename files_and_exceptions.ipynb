{
 "cells": [
  {
   "cell_type": "markdown",
   "metadata": {},
   "source": [
    "# **Files and Exceptions**"
   ]
  },
  {
   "cell_type": "markdown",
   "metadata": {},
   "source": [
    "## **Reading from Entire File**"
   ]
  },
  {
   "cell_type": "markdown",
   "metadata": {},
   "source": [
    "Reading from a file is particularly useful in data analysis applications, but it's also applicable to any situation in which you want to analyze or modify information stored in a file."
   ]
  },
  {
   "cell_type": "code",
   "execution_count": 1,
   "metadata": {},
   "outputs": [
    {
     "name": "stdout",
     "output_type": "stream",
     "text": [
      "Oregón está en los Estados Unidos. Tiene una zona remota conocida como \"Oregon outback\". Tiene pocas personas y casas. Está lejos de las ciudades y es muy tranquilo. Los paisajes son increíbles. La zona es muy especial. El cielo es muy oscuro. Aquípuedes observar muchas estrellas. Es un lugar muy bonito para visitar.\n"
     ]
    }
   ],
   "source": [
    "with open('file.txt') as file_object:\n",
    "    contents=file_object.read()\n",
    "print(contents)"
   ]
  },
  {
   "cell_type": "code",
   "execution_count": 3,
   "metadata": {},
   "outputs": [
    {
     "name": "stdout",
     "output_type": "stream",
     "text": [
      "3.1415926535\n",
      "8979323846\n",
      "2643383279\n"
     ]
    }
   ],
   "source": [
    "with open('pi_digit.txt') as fl:\n",
    "    cont=fl.read()\n",
    "print(cont)"
   ]
  },
  {
   "cell_type": "markdown",
   "metadata": {},
   "source": [
    "**open() Function** , To do any work with a file, even just printing its contents, you first need to open the file to access it. The open() function need one argument: the name of the file you want to open"
   ]
  },
  {
   "cell_type": "markdown",
   "metadata": {},
   "source": [
    "### **Reading Line by Line**"
   ]
  },
  {
   "cell_type": "code",
   "execution_count": 2,
   "metadata": {},
   "outputs": [
    {
     "name": "stdout",
     "output_type": "stream",
     "text": [
      "Oregón está en los Estados Unidos. Tiene una zona remota conocida como \"Oregon outback\". Tiene pocas personas y casas. Está lejos de las ciudades y es muy tranquilo. Los paisajes son increíbles. La zona es muy especial. El cielo es muy oscuro. Aquípuedes observar muchas estrellas. Es un lugar muy bonito para visitar.\n"
     ]
    }
   ],
   "source": [
    "file_name='file.txt'\n",
    "with open(file_name) as file_obj:\n",
    "    for line in file_obj:\n",
    "        print(line)"
   ]
  },
  {
   "cell_type": "code",
   "execution_count": 4,
   "metadata": {},
   "outputs": [
    {
     "name": "stdout",
     "output_type": "stream",
     "text": [
      "3.1415926535\n",
      "\n",
      "8979323846\n",
      "\n",
      "2643383279\n"
     ]
    }
   ],
   "source": [
    "with open('pi_digit.txt') as h:\n",
    "    for line in h:\n",
    "        print(line)"
   ]
  },
  {
   "cell_type": "code",
   "execution_count": 5,
   "metadata": {},
   "outputs": [
    {
     "name": "stdout",
     "output_type": "stream",
     "text": [
      "3.1415926535\n",
      "8979323846\n",
      "2643383279\n"
     ]
    }
   ],
   "source": [
    "with open('pi_digit.txt') as h:\n",
    "    for line in h:\n",
    "        print(line.rstrip())"
   ]
  },
  {
   "cell_type": "markdown",
   "metadata": {},
   "source": [
    "### **Making a list of Lines from a File**"
   ]
  },
  {
   "cell_type": "code",
   "execution_count": 6,
   "metadata": {},
   "outputs": [
    {
     "name": "stdout",
     "output_type": "stream",
     "text": [
      "3.1415926535\n",
      "8979323846\n",
      "2643383279\n"
     ]
    }
   ],
   "source": [
    "with open('pi_digit.txt') as kk:\n",
    "    lines=kk.readlines()\n",
    "for line in lines:\n",
    "    print(line.rstrip())"
   ]
  },
  {
   "cell_type": "code",
   "execution_count": 7,
   "metadata": {},
   "outputs": [
    {
     "name": "stdout",
     "output_type": "stream",
     "text": [
      "Oregón está en los Estados Unidos. Tiene una zona remota conocida como \"Oregon outback\". Tiene pocas personas y casas. Está lejos de las ciudades y es muy tranquilo. Los paisajes son increíbles. La zona es muy especial. El cielo es muy oscuro. Aquípuedes observar muchas estrellas. Es un lugar muy bonito para visitar.\n"
     ]
    }
   ],
   "source": [
    "with open('file.txt') as kk:\n",
    "    lines=kk.readlines()\n",
    "for line in lines:\n",
    "    print(line.rstrip())"
   ]
  },
  {
   "cell_type": "markdown",
   "metadata": {},
   "source": [
    "### **Working with a File's Contents**"
   ]
  },
  {
   "cell_type": "code",
   "execution_count": 9,
   "metadata": {},
   "outputs": [
    {
     "name": "stdout",
     "output_type": "stream",
     "text": [
      "3.141592653589793238462643383279\n",
      "32\n"
     ]
    }
   ],
   "source": [
    "with open('pi_digit.txt') as kk:\n",
    "    lines=kk.readlines()\n",
    "pi_string=''\n",
    "for line in lines:\n",
    "    pi_string+=line.rstrip()\n",
    "print(pi_string)\n",
    "print(len(pi_string))\n",
    "    "
   ]
  },
  {
   "cell_type": "code",
   "execution_count": 10,
   "metadata": {},
   "outputs": [
    {
     "name": "stdout",
     "output_type": "stream",
     "text": [
      "Oregón está en los Estados Unidos. Tiene una zona remota conocida como \"Oregon outback\". Tiene pocas personas y casas. Está lejos de las ciudades y es muy tranquilo. Los paisajes son increíbles. La zona es muy especial. El cielo es muy oscuro. Aquípuedes observar muchas estrellas. Es un lugar muy bonito para visitar.\n",
      "318\n"
     ]
    }
   ],
   "source": [
    "with open('file.txt') as kk:\n",
    "    lines=kk.readlines()\n",
    "pi_string=''\n",
    "for line in lines:\n",
    "    pi_string+=line.rstrip()\n",
    "print(pi_string)\n",
    "print(len(pi_string))"
   ]
  },
  {
   "cell_type": "markdown",
   "metadata": {},
   "source": [
    "## **Writing to a file**"
   ]
  },
  {
   "cell_type": "code",
   "execution_count": 15,
   "metadata": {},
   "outputs": [],
   "source": [
    "with open('programming.txt','w') as file_object:\n",
    "    file_object.write('I love programming')\n"
   ]
  },
  {
   "cell_type": "markdown",
   "metadata": {},
   "source": [
    "If file is not already present in your folder by using write mode you can make this file, first it will create that file and then add info you've write"
   ]
  },
  {
   "cell_type": "code",
   "execution_count": 16,
   "metadata": {},
   "outputs": [
    {
     "ename": "ValueError",
     "evalue": "I/O operation on closed file.",
     "output_type": "error",
     "traceback": [
      "\u001b[0;31m---------------------------------------------------------------------------\u001b[0m",
      "\u001b[0;31mValueError\u001b[0m                                Traceback (most recent call last)",
      "Cell \u001b[0;32mIn[16], line 1\u001b[0m\n\u001b[0;32m----> 1\u001b[0m \u001b[38;5;28mprint\u001b[39m(\u001b[43mfile_object\u001b[49m\u001b[38;5;241;43m.\u001b[39;49m\u001b[43mreadlines\u001b[49m\u001b[43m(\u001b[49m\u001b[43m)\u001b[49m)\n",
      "\u001b[0;31mValueError\u001b[0m: I/O operation on closed file."
     ]
    }
   ],
   "source": [
    "print(file_object.readlines())"
   ]
  },
  {
   "cell_type": "markdown",
   "metadata": {},
   "source": [
    "You can open a open a file in read mode('r). write mode('w), append mode('a'),or a mode that allows you to read and write to the file('r+').\n",
    "If you omit the mode arguments python opens the file in read-only mode by default."
   ]
  },
  {
   "cell_type": "markdown",
   "metadata": {},
   "source": [
    "Be careful opening a file in write mode('w') because if the file does exist,python will erase the contents of the file before returning the file object."
   ]
  },
  {
   "cell_type": "code",
   "execution_count": 17,
   "metadata": {},
   "outputs": [
    {
     "name": "stdout",
     "output_type": "stream",
     "text": [
      "I love programming\n"
     ]
    }
   ],
   "source": [
    "with open('programming.txt') as jk:\n",
    "    content=jk.read()\n",
    "print(content)"
   ]
  },
  {
   "cell_type": "markdown",
   "metadata": {},
   "source": [
    "### **Writing Multiple lines**"
   ]
  },
  {
   "cell_type": "code",
   "execution_count": 21,
   "metadata": {},
   "outputs": [
    {
     "name": "stdout",
     "output_type": "stream",
     "text": [
      "I love programming\n",
      "I love creating new games.\n",
      "hoi\n",
      "\n"
     ]
    }
   ],
   "source": [
    "with open('programming.txt','w') as file_object:\n",
    "    file_object.write('I love programming\\n')\n",
    "    file_object.write('I love creating new games.\\n')\n",
    "    file_object.write('hoi\\n')\n",
    "\n",
    "with open('programming.txt') as kl:\n",
    "    print(kl.read())\n"
   ]
  },
  {
   "cell_type": "markdown",
   "metadata": {},
   "source": [
    "## **Appending to a file**"
   ]
  },
  {
   "cell_type": "markdown",
   "metadata": {},
   "source": [
    "If you want to add content to a file insted of writing over existing content, you can open the file in append mode. When you open a file in append mode python doesn't erase the contents of the file before returning file object. Anyn line you write to the file will be added at the end of the file. If thev file doesn't exist yet, python will create an empty file for you."
   ]
  },
  {
   "cell_type": "code",
   "execution_count": 22,
   "metadata": {},
   "outputs": [
    {
     "name": "stdout",
     "output_type": "stream",
     "text": [
      "I love programming\n",
      "I love creating new games.\n",
      "hoi\n",
      "I also like finding meaning in large datasets.\n",
      "I love football.\n",
      "\n"
     ]
    }
   ],
   "source": [
    "with open('programming.txt','a') as file:\n",
    "    file.write('I also like finding meaning in large datasets.\\n')\n",
    "    file.write('I love football.\\n')\n",
    "with open('programming.txt','r') as gh:\n",
    "    print(gh.read())"
   ]
  },
  {
   "cell_type": "markdown",
   "metadata": {},
   "source": [
    "## **Exceptions**"
   ]
  },
  {
   "cell_type": "markdown",
   "metadata": {},
   "source": [
    "\n",
    "python uses special object s called exceptions to manage errors that arise during a program's execution. Whenever an error occurs that makes Python unsure what to do et, it creates an exception object. If you write code that handles the exception, the program will continue running. if you don't handle the exception, the program will halt and show a traceback, which includes a report of the exception that was raised.\n"
   ]
  },
  {
   "cell_type": "markdown",
   "metadata": {},
   "source": [
    "### **Heandling the ZeroDivisionError Exception**"
   ]
  },
  {
   "cell_type": "code",
   "execution_count": 23,
   "metadata": {},
   "outputs": [
    {
     "ename": "ZeroDivisionError",
     "evalue": "division by zero",
     "output_type": "error",
     "traceback": [
      "\u001b[0;31m---------------------------------------------------------------------------\u001b[0m",
      "\u001b[0;31mZeroDivisionError\u001b[0m                         Traceback (most recent call last)",
      "Cell \u001b[0;32mIn[23], line 1\u001b[0m\n\u001b[0;32m----> 1\u001b[0m \u001b[38;5;28mprint\u001b[39m(\u001b[38;5;241;43m5\u001b[39;49m\u001b[38;5;241;43m/\u001b[39;49m\u001b[38;5;241;43m0\u001b[39;49m)\n",
      "\u001b[0;31mZeroDivisionError\u001b[0m: division by zero"
     ]
    }
   ],
   "source": [
    "print(5/0)"
   ]
  },
  {
   "cell_type": "code",
   "execution_count": 24,
   "metadata": {},
   "outputs": [
    {
     "name": "stdout",
     "output_type": "stream",
     "text": [
      "You can't divide by zero!\n"
     ]
    }
   ],
   "source": [
    "try:\n",
    "    print(5/0)\n",
    "except ZeroDivisionError:\n",
    "    print(\"You can't divide by zero!\")"
   ]
  },
  {
   "cell_type": "code",
   "execution_count": 25,
   "metadata": {},
   "outputs": [
    {
     "name": "stdout",
     "output_type": "stream",
     "text": [
      "Give me two numbers, and I'll divide them.\n",
      "Enter 'q' to quite.\n",
      "0.7333333333333333\n",
      "7.5\n",
      "9.777777777777779\n",
      "0.45918367346938777\n"
     ]
    }
   ],
   "source": [
    "print(\"Give me two numbers, and I'll divide them.\")\n",
    "print(\"Enter 'q' to quite.\")\n",
    "\n",
    "while True:\n",
    "    first_number=input(\"\\nFirst number:\")\n",
    "    if first_number=='q':\n",
    "        break\n",
    "    second_number=input(\"Second number:\")\n",
    "    if second_number=='q':\n",
    "        break\n",
    "    answer=int(first_number)/int(second_number)\n",
    "    print(answer)\n"
   ]
  },
  {
   "cell_type": "code",
   "execution_count": 26,
   "metadata": {},
   "outputs": [
    {
     "name": "stdout",
     "output_type": "stream",
     "text": [
      "Give me two numbers, and I'll divide them.\n",
      "Enter 'q' to quite.\n",
      "Undefined\n",
      "0.5714285714285714\n"
     ]
    }
   ],
   "source": [
    "print(\"Give me two numbers, and I'll divide them.\")\n",
    "print(\"Enter 'q' to quite.\")\n",
    "\n",
    "while True:\n",
    "    first_number=input(\"\\nFirst number:\")\n",
    "    if first_number=='q':\n",
    "        break\n",
    "    second_number=input(\"Second number:\")\n",
    "    if second_number=='q':\n",
    "        break\n",
    "    try:\n",
    "        answer=int(first_number)/int(second_number)\n",
    "    except ZeroDivisionError:\n",
    "        print(\"Undefined\")\n",
    "    else:\n",
    "        print(answer)\n",
    "\n"
   ]
  },
  {
   "cell_type": "code",
   "execution_count": null,
   "metadata": {},
   "outputs": [],
   "source": []
  }
 ],
 "metadata": {
  "kernelspec": {
   "display_name": "ML_Env_Udemy",
   "language": "python",
   "name": "python3"
  },
  "language_info": {
   "codemirror_mode": {
    "name": "ipython",
    "version": 3
   },
   "file_extension": ".py",
   "mimetype": "text/x-python",
   "name": "python",
   "nbconvert_exporter": "python",
   "pygments_lexer": "ipython3",
   "version": "3.12.0"
  }
 },
 "nbformat": 4,
 "nbformat_minor": 2
}
