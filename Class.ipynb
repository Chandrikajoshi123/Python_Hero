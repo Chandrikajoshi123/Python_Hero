{
 "cells": [
  {
   "cell_type": "markdown",
   "metadata": {},
   "source": [
    "# **Classes**\n"
   ]
  },
  {
   "cell_type": "markdown",
   "metadata": {},
   "source": [
    "**Object-oriented programming is one of the most effective approaches to writeng software**"
   ]
  },
  {
   "cell_type": "code",
   "execution_count": 3,
   "metadata": {},
   "outputs": [
    {
     "name": "stdout",
     "output_type": "stream",
     "text": [
      "Brazo is now sitting.\n",
      "None\n",
      "Brazo rolled over!\n",
      "None\n"
     ]
    }
   ],
   "source": [
    "class Dog:\n",
    "    '''A simple attempt to model a dog.'''\n",
    "    def __init__(self,name,age):#you can write anything in the place of self\n",
    "        '''Initialize name and age attributes.'''\n",
    "        self.name=name\n",
    "        self.age=age\n",
    "\n",
    "    def sit(self):\n",
    "        print(f\"{self.name} is now sitting.\")\n",
    "    def roll(self):\n",
    "        print(f\"{self.name} rolled over!\")\n",
    "dog1=Dog('Brazo',3)\n",
    "print(dog1.sit())\n",
    "print(dog1.roll())\n"
   ]
  },
  {
   "cell_type": "markdown",
   "metadata": {},
   "source": [
    "The **__init__** method , part of class, is a special method that python runs automatically whenever we create a new instance based on the Dog class. "
   ]
  },
  {
   "cell_type": "code",
   "execution_count": 5,
   "metadata": {},
   "outputs": [
    {
     "name": "stdout",
     "output_type": "stream",
     "text": [
      "The Arches Cafe & Bakery is good restaurant and their best cusine is 1 \n",
      "The Arches Cafe & Bakery open 9:00 am close 10:00 pm \n",
      "\n",
      "\n",
      "The Sitting Elephant is good restaurant and their best cusine is 2 \n",
      "The Sitting Elephant open 9:00 am close 10:00 pm \n"
     ]
    }
   ],
   "source": [
    "class Restaurant():\n",
    "    def __init__(self,restaurant_name,cuisine_type):\n",
    "        self.restaurant_name=restaurant_name\n",
    "        self.cuisine_type=cuisine_type\n",
    "    def describe_restaurant(self):\n",
    "        print(f\"{self.restaurant_name} is good restaurant and their best cusine is {self.cuisine_type} \")\n",
    "    def open_restaurant(self):\n",
    "        print(f\"{self.restaurant_name} open 9:00 am close 10:00 pm \")\n",
    "res1=Restaurant('The Arches Cafe & Bakery','1') #object\n",
    "res2=Restaurant('The Sitting Elephant','2')#object2\n",
    "#calling methods\n",
    "res1.describe_restaurant()\n",
    "res1.open_restaurant()\n",
    "print('\\n')\n",
    "res2.describe_restaurant()\n",
    "res2.open_restaurant()"
   ]
  },
  {
   "cell_type": "code",
   "execution_count": 7,
   "metadata": {},
   "outputs": [
    {
     "name": "stdout",
     "output_type": "stream",
     "text": [
      "Chandrika Joshi is Loyal Customer :)\n",
      "Hello Chandrika Joshi nice to see you!\n"
     ]
    }
   ],
   "source": [
    "class User():\n",
    "    def __init__(self,first_name,last_name,last_visit):\n",
    "        self.first_name=first_name\n",
    "        self.last_name=last_name\n",
    "        self.last_visit=last_visit\n",
    "    def describe_user(self):\n",
    "        if self.last_visit==True:\n",
    "            print(f'{self.first_name} {self.last_name} is Loyal Customer :)')\n",
    "        else:\n",
    "            print(f'{self.first_name} {self.last_name} is New customer :(')\n",
    "       \n",
    "    def greet_user(self):\n",
    "        print(f\"Hello {self.first_name} {self.last_name} nice to see you!\")\n",
    "us1=User('Chandrika','Joshi',True)\n",
    "us1.describe_user()\n",
    "us1.greet_user()"
   ]
  },
  {
   "cell_type": "code",
   "execution_count": 9,
   "metadata": {},
   "outputs": [
    {
     "data": {
      "text/plain": [
       "'2019 Audi A4'"
      ]
     },
     "execution_count": 9,
     "metadata": {},
     "output_type": "execute_result"
    }
   ],
   "source": [
    "class Car():\n",
    "    def __init__(self,make,model,year):\n",
    "        self.make=make\n",
    "        self.model=model\n",
    "        self.year=year\n",
    "    def get_discriptive_name(self):\n",
    "        long_name=f\"{self.year} {self.make} {self.model}\"\n",
    "        return long_name.title()\n",
    "\n",
    "new_car=Car('audi','a4',2019)\n",
    "new_car.get_discriptive_name()\n"
   ]
  },
  {
   "cell_type": "code",
   "execution_count": 12,
   "metadata": {},
   "outputs": [
    {
     "name": "stdout",
     "output_type": "stream",
     "text": [
      "2019 Audi A4\n",
      "\n",
      "\n",
      "This car has 0 miles on it.\n"
     ]
    }
   ],
   "source": [
    "#Setting a default value for an attribute\n",
    "class Car():\n",
    "    def __init__(self,make,model,year):\n",
    "        self.make=make\n",
    "        self.model=model\n",
    "        self.year=year\n",
    "        self.odometer_reading=0\n",
    "    def get_discriptive_name(self):\n",
    "        long_name=f\"{self.year} {self.make} {self.model}\"\n",
    "        return long_name.title()\n",
    "    def read_odometer(self):\n",
    "        print(f\"This car has {self.odometer_reading} miles on it.\")\n",
    "new_car=Car('audi','a4',2019)\n",
    "print(new_car.get_discriptive_name())\n",
    "print('\\n')\n",
    "new_car.read_odometer()"
   ]
  },
  {
   "cell_type": "code",
   "execution_count": 1,
   "metadata": {},
   "outputs": [
    {
     "name": "stdout",
     "output_type": "stream",
     "text": [
      "2019 Audi A4\n",
      "\n",
      "\n",
      "This car has 23 miles on it.\n"
     ]
    }
   ],
   "source": [
    "#modifying attribute value\n",
    "class Car():\n",
    "    def __init__(self,make,model,year):\n",
    "        self.make=make\n",
    "        self.model=model\n",
    "        self.year=year\n",
    "        self.odometer_reading=0\n",
    "    def get_discriptive_name(self):\n",
    "        long_name=f\"{self.year} {self.make} {self.model}\"\n",
    "        return long_name.title()\n",
    "    def read_odometer(self):\n",
    "        print(f\"This car has {self.odometer_reading} miles on it.\")\n",
    "new_car=Car('audi','a4',2019)\n",
    "print(new_car.get_discriptive_name())\n",
    "print('\\n')\n",
    "new_car.odometer_reading=23\n",
    "new_car.read_odometer()"
   ]
  },
  {
   "cell_type": "code",
   "execution_count": 9,
   "metadata": {},
   "outputs": [
    {
     "name": "stdout",
     "output_type": "stream",
     "text": [
      "This car has 23 miles on it.\n"
     ]
    }
   ],
   "source": [
    "#modifying attribute value throug a method\n",
    "class Car():\n",
    "    def __init__(self,make,model,year):\n",
    "        self.make=make\n",
    "        self.model=model\n",
    "        self.year=year\n",
    "        self.odometer_reading=0\n",
    "    def get_discriptive_name(self):\n",
    "        long_name=f\"{self.year} {self.make} {self.model}\"\n",
    "        return long_name.title()\n",
    "    def update_odometer(self,mileage):\n",
    "        self.odometer_reading=mileage\n",
    "    def read_odometer(self):\n",
    "        print(f\"This car has {self.odometer_reading} miles on it.\")\n",
    "    \n",
    "new_car=Car('audi','a4',2019)\n",
    "new_car.update_odometer(23)\n",
    "new_car.read_odometer()\n"
   ]
  },
  {
   "cell_type": "code",
   "execution_count": 14,
   "metadata": {},
   "outputs": [
    {
     "name": "stdout",
     "output_type": "stream",
     "text": [
      "2015 Subaru Outback\n",
      "\n",
      "\n",
      "This car has 23500 miles on it.\n",
      "This car has 23600 miles on it.\n"
     ]
    }
   ],
   "source": [
    "#Incrementing attribute value through a method\n",
    "class Car():\n",
    "    def __init__(self,make,model,year):\n",
    "        self.make=make\n",
    "        self.model=model\n",
    "        self.year=year\n",
    "        self.odometer_reading=0\n",
    "    def get_discriptive_name(self):\n",
    "        long_name=f\"{self.year} {self.make} {self.model}\"\n",
    "        return long_name.title()\n",
    "    def update_odometer(self,mileage):\n",
    "        \n",
    "        if mileage>=self.odometer_reading:\n",
    "            self.odometer_reading=mileage\n",
    "        else:\n",
    "            print(\"You can't roll back an odometer!\")\n",
    "    def increment_update(self,miles):\n",
    "        self.odometer_reading+=miles\n",
    "\n",
    "    def read_odometer(self):\n",
    "        print(f\"This car has {self.odometer_reading} miles on it.\")\n",
    "        \n",
    "    \n",
    "new_car=Car('subaru','outback',2015)\n",
    "print(new_car.get_discriptive_name())\n",
    "print(\"\\n\")\n",
    "new_car.update_odometer(23_500)\n",
    "new_car.read_odometer()\n",
    "new_car.increment_update(100)\n",
    "new_car.read_odometer()"
   ]
  },
  {
   "cell_type": "code",
   "execution_count": null,
   "metadata": {},
   "outputs": [],
   "source": []
  }
 ],
 "metadata": {
  "kernelspec": {
   "display_name": "ML_Env_Udemy",
   "language": "python",
   "name": "python3"
  },
  "language_info": {
   "codemirror_mode": {
    "name": "ipython",
    "version": 3
   },
   "file_extension": ".py",
   "mimetype": "text/x-python",
   "name": "python",
   "nbconvert_exporter": "python",
   "pygments_lexer": "ipython3",
   "version": "3.12.0"
  }
 },
 "nbformat": 4,
 "nbformat_minor": 2
}
