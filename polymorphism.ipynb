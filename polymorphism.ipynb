{
 "cells": [
  {
   "cell_type": "markdown",
   "metadata": {},
   "source": [
    "# Ploymorphism"
   ]
  },
  {
   "cell_type": "markdown",
   "metadata": {},
   "source": [
    "**Polymorphism is a core concept in Object-Oriented programming(OOP) that allows objects of different classes to be treated as objects of common superclass. It provides a way to perform a single action in different forms. Polymorphism is typically achieved through method overriding and interfaces.**"
   ]
  },
  {
   "cell_type": "markdown",
   "metadata": {},
   "source": [
    "## Method Overriding\n",
    "Method Overriding allows a child class to provide a specific implementation of a method that is already defined in its parent class."
   ]
  },
  {
   "cell_type": "code",
   "execution_count": 8,
   "metadata": {},
   "outputs": [
    {
     "name": "stdout",
     "output_type": "stream",
     "text": [
      "Woof\n",
      "meow\n",
      "Woof\n",
      "None\n"
     ]
    }
   ],
   "source": [
    "#Base class\n",
    "class Animal:\n",
    "    def speak(self):\n",
    "        return \"Sound of the animal\"\n",
    "#Derived class1\n",
    "class Dog(Animal):\n",
    "    def speak(self):\n",
    "        return \"Woof\"\n",
    "#Derived class2\n",
    "class Cat(Animal):\n",
    "    def speak(self):\n",
    "        return 'meow'\n",
    "#polymorphism \n",
    "def animal_speak(animal):\n",
    "    print(animal.speak())\n",
    "dogg=Dog()\n",
    "print(dogg.speak())\n",
    "cat=Cat()\n",
    "print(cat.speak())\n",
    "\n",
    "print(animal_speak(dogg))\n",
    "\n"
   ]
  },
  {
   "cell_type": "code",
   "execution_count": 9,
   "metadata": {},
   "outputs": [
    {
     "name": "stdout",
     "output_type": "stream",
     "text": [
      "The area is 15\n",
      "None\n",
      "The area is 50.24\n",
      "None\n"
     ]
    }
   ],
   "source": [
    "#polymorphism using functions and method\n",
    "#Base class\n",
    "class shape:\n",
    "    def area(self):\n",
    "        return \"The area of figure\"\n",
    "\n",
    "#Derived class1\n",
    "class rectangle(shape):\n",
    "    def __init__(self,width,height):\n",
    "        self.width=width\n",
    "        self.height=height\n",
    "    def area(self):\n",
    "        return self.width*self.height\n",
    "\n",
    "#Derived class2\n",
    "class circle(shape):\n",
    "    def __init__(self,radius):\n",
    "        self.radius=radius\n",
    "    def area(self):\n",
    "        return 3.14*self.radius*self.radius\n",
    "#polymosrphism\n",
    "def area_print(shape):\n",
    "    print(f\"The area is {shape.area()}\")\n",
    "\n",
    "rectangle=rectangle(3,5)\n",
    "circle=circle(4)\n",
    "print(area_print(rectangle))\n",
    "print(area_print(circle))\n"
   ]
  },
  {
   "cell_type": "code",
   "execution_count": null,
   "metadata": {},
   "outputs": [],
   "source": [
    "\n"
   ]
  }
 ],
 "metadata": {
  "kernelspec": {
   "display_name": "venvnnv",
   "language": "python",
   "name": "python3"
  },
  "language_info": {
   "codemirror_mode": {
    "name": "ipython",
    "version": 3
   },
   "file_extension": ".py",
   "mimetype": "text/x-python",
   "name": "python",
   "nbconvert_exporter": "python",
   "pygments_lexer": "ipython3",
   "version": "3.12.0"
  }
 },
 "nbformat": 4,
 "nbformat_minor": 2
}
